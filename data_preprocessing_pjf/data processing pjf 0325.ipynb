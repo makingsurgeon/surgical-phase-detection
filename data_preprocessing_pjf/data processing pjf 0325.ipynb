{
 "cells": [
  {
   "cell_type": "code",
   "execution_count": 1,
   "id": "8a3c64cc",
   "metadata": {},
   "outputs": [],
   "source": [
    "import torch\n",
    "import torchvision\n",
    "import torchvision.transforms as transforms\n",
    "import torch.optim as optim\n",
    "import time\n",
    "from itertools import count\n",
    "import natsort\n",
    "import datetime\n",
    "import numpy as np"
   ]
  },
  {
   "cell_type": "code",
   "execution_count": 2,
   "id": "57ad8105",
   "metadata": {},
   "outputs": [],
   "source": [
    "from torch.utils.data import Dataset, DataLoader\n",
    "import albumentations as A\n",
    "from albumentations.pytorch import ToTensorV2\n",
    "import cv2\n",
    "import glob\n",
    "import numpy\n",
    "import random\n",
    "import pandas as pd\n",
    "import tqdm"
   ]
  },
  {
   "cell_type": "code",
   "execution_count": 3,
   "id": "8edee91e",
   "metadata": {},
   "outputs": [
    {
     "name": "stdout",
     "output_type": "stream",
     "text": [
      "Is CUDA supported by this system? True\n",
      "CUDA version: 11.3\n",
      "ID of current CUDA device: 0\n",
      "Name of current CUDA device: NVIDIA GeForce RTX 2070 Super\n",
      "cuda:0\n"
     ]
    }
   ],
   "source": [
    "print(f\"Is CUDA supported by this system? {torch.cuda.is_available()}\")\n",
    "print(f\"CUDA version: {torch.version.cuda}\")\n",
    "# Storing ID of current CUDA device\n",
    "cuda_id = torch.cuda.current_device()\n",
    "print(f\"ID of current CUDA device: {torch.cuda.current_device()}\")\n",
    "print(f\"Name of current CUDA device: {torch.cuda.get_device_name(cuda_id)}\")\n",
    "\n",
    "device = torch.device('cuda:0' if torch.cuda.is_available() else 'cpu')\n",
    "print(device)"
   ]
  },
  {
   "cell_type": "code",
   "execution_count": 13,
   "id": "1f88d9a5",
   "metadata": {},
   "outputs": [
    {
     "name": "stdout",
     "output_type": "stream",
     "text": [
      "cuda:0\n"
     ]
    }
   ],
   "source": [
    "device = torch.device('cuda:0' if torch.cuda.is_available() else 'cpu')\n",
    "\n",
    "print(device)"
   ]
  },
  {
   "cell_type": "markdown",
   "id": "53b2e2e0",
   "metadata": {},
   "source": [
    "# Video Preprocessing"
   ]
  },
  {
   "cell_type": "code",
   "execution_count": 9,
   "id": "afc3b3ca",
   "metadata": {},
   "outputs": [],
   "source": [
    "for i in range(1,10):\n",
    "    vidcap = cv2.VideoCapture(r\"C:\\Users\\panji\\EECS6691_Advanced_DL\\Assignment2\\video\\RALIHR_surgeon01_fps01_000%d.mp4\"% i)\n",
    "    success, image = vidcap.read()\n",
    "    success, image = vidcap.read()\n",
    "    count = 0\n",
    "    while success:\n",
    "        cv2.imwrite(r'C:\\Users\\panji\\EECS6691_Advanced_DL\\Assignment2\\training_data_images\\Video%dframe%d.jpg'% (i, count), image)\n",
    "        success,image = vidcap.read()\n",
    "        count += 1"
   ]
  },
  {
   "cell_type": "code",
   "execution_count": 8,
   "id": "be4caaed",
   "metadata": {},
   "outputs": [],
   "source": [
    "# Cut frames from videos\n",
    "# Cut frames from videos\n",
    "for i in range(1,71):\n",
    "    vidcap = cv2.VideoCapture(r\"C:\\Users\\panji\\EECS6691_Advanced_DL\\Assignment2\\video\\RALIHR_surgeon01_fps01_00%d.mp4\"% i)\n",
    "    success, image = vidcap.read()\n",
    "    success, image = vidcap.read()\n",
    "    count = 0\n",
    "    while success:\n",
    "        cv2.imwrite(r'C:\\Users\\panji\\EECS6691_Advanced_DL\\Assignment2\\training_data_images\\Video%dframe%d.jpg'% (i, count), image)\n",
    "        success,image = vidcap.read()\n",
    "        count += 1\n"
   ]
  },
  {
   "cell_type": "markdown",
   "id": "982aa673",
   "metadata": {},
   "source": [
    "# Label processing"
   ]
  },
  {
   "cell_type": "code",
   "execution_count": 78,
   "id": "13b6cb1c",
   "metadata": {
    "scrolled": true
   },
   "outputs": [
    {
     "name": "stdout",
     "output_type": "stream",
     "text": [
      "<bound method NDFrame.head of                         videoName             PhaseName  Start    End\n",
      "1     RALIHR_surgeon01_fps01_0001      Stationary Idle1  00:00  00:16\n",
      "2     RALIHR_surgeon01_fps01_0001   Transitionary Idle1  00:16  00:35\n",
      "3     RALIHR_surgeon01_fps01_0001           Out of body  00:35  01:05\n",
      "4     RALIHR_surgeon01_fps01_0001   Transitionary Idle2  01:05  01:59\n",
      "5     RALIHR_surgeon01_fps01_0001    Peritoneal Scoring  01:59  02:55\n",
      "...                           ...                   ...    ...    ...\n",
      "2020  RALIHR_surgeon01_fps01_0070   Peritoneal closure8  51:24  52:23\n",
      "2021  RALIHR_surgeon01_fps01_0070  Positioning suture11  52:23  54:08\n",
      "2022  RALIHR_surgeon01_fps01_0070   Peritoneal closure9  54:08  57:27\n",
      "2023  RALIHR_surgeon01_fps01_0070  Positioning suture12  57:27  57:55\n",
      "2024  RALIHR_surgeon01_fps01_0070  Transitionary Idle11  57:55  58:18\n",
      "\n",
      "[2022 rows x 4 columns]>\n"
     ]
    }
   ],
   "source": [
    "#Get labels\n",
    "a =  pd.read_csv(\"video.phase.trainingData.clean.StudentVersion.csv\")\n",
    "a1 = a[a.PhaseName !=\"Access\"]\n",
    "a2 = a1\n",
    "print(a2.head)\n",
    "\n",
    "for i in range(a2.shape[0]):\n",
    "    if any([c.isdigit() for c in a2.iat[i,1]]):\n",
    "        a2.iat[i,1] = a2.iat[i,1][:-1]\n",
    "    a2.iat[i,1] = a2.iat[i,1].lower()\n",
    "b1 = a2[\"PhaseName\"].unique()"
   ]
  },
  {
   "cell_type": "code",
   "execution_count": 80,
   "id": "9926dd67",
   "metadata": {},
   "outputs": [],
   "source": [
    "b2 = list(b1)\n",
    "unique_classes = {}\n",
    "for c in b1:\n",
    "    if c[:3] == 'adh':\n",
    "        unique_classes[c] = 0\n",
    "        b2.remove(c)\n",
    "    elif c[-7:] == 'scoring':\n",
    "        unique_classes[c] = 1\n",
    "        b2.remove(c)\n",
    "    elif c[:6] == 'preper':\n",
    "        unique_classes[c] = 2\n",
    "        b2.remove(c)\n",
    "    elif c[:3] == 'red':\n",
    "        unique_classes[c] = 3\n",
    "        b2.remove(c)\n",
    "    elif c[:7] == 'mesh po':\n",
    "        unique_classes[c] = 4\n",
    "        b2.remove(c)\n",
    "    elif c[:7] == 'mesh pl':\n",
    "        unique_classes[c] = 5\n",
    "        b2.remove(c)\n",
    "    elif c == 'positioning of suture':\n",
    "        unique_classes[c] = 6\n",
    "        b2.remove(c)\n",
    "    elif c == 'positioning suture':\n",
    "        unique_classes[c] = 7\n",
    "        b2.remove(c)\n",
    "    elif c[:6] == 'direct':\n",
    "        unique_classes[c] = 8\n",
    "        b2.remove(c)\n",
    "    elif c[:4] == 'cath':\n",
    "        unique_classes[c] = 9\n",
    "        b2.remove(c)\n",
    "    elif c == 'peritoneal closure':\n",
    "        unique_classes[c] = 10\n",
    "        b2.remove(c)\n",
    "    elif c == 'transitory idle':\n",
    "        unique_classes[c] = 11\n",
    "        b2.remove(c)\n",
    "    elif c == 'stationary idle':\n",
    "        unique_classes[c] = 12\n",
    "        b2.remove(c)\n",
    "    elif c == 'out of body':\n",
    "        unique_classes[c] = 13\n",
    "        b2.remove(c)\n",
    "    elif c == 'blurry':\n",
    "        unique_classes[c] = 14\n",
    "        b2.remove(c)"
   ]
  },
  {
   "cell_type": "code",
   "execution_count": 84,
   "id": "d77a62d7",
   "metadata": {},
   "outputs": [
    {
     "name": "stdout",
     "output_type": "stream",
     "text": [
      "['stationary idle' 'transitionary idle' 'out of body' 'peritoneal scoring'\n",
      " 'preperioneal dissection' 'reduction of hernia' 'blurry'\n",
      " 'positioning of suture' 'mesh placement' 'acquiring suture'\n",
      " 'peritoneal closure' 'preperitoneal dissection' 'mesh positioning'\n",
      " 'positioning suture' 'transitionary idle1' 'direct hernia repair'\n",
      " 'catheter insertion' 'suture positioning' 'suture positioining'\n",
      " 'prepreitoneal dissection' 'prepetioneal dissection' 'transtionary idle'\n",
      " 'adhesiolysis' 'positioining suture' 'prepertioneal dissection'\n",
      " 'cathter insertion' 'transtiionary idle' 'mesh positioning '\n",
      " 'transitioning idle' 'primary hernia repair' 'transitiionary idle1'\n",
      " 'transtitionary idle' 'positioning suture1' 'preperitoneal dissection1'\n",
      " 'perperitoneal dissection']\n",
      "['transitionary idle', 'acquiring suture', 'transitionary idle1', 'suture positioning', 'suture positioining', 'prepreitoneal dissection', 'prepetioneal dissection', 'transtionary idle', 'positioining suture', 'transtiionary idle', 'transitioning idle', 'primary hernia repair', 'transitiionary idle1', 'transtitionary idle', 'positioning suture1', 'perperitoneal dissection']\n",
      "16\n",
      "19\n",
      "{'stationary idle': 12, 'out of body': 13, 'peritoneal scoring': 1, 'preperioneal dissection': 2, 'reduction of hernia': 3, 'blurry': 14, 'positioning of suture': 6, 'mesh placement': 5, 'peritoneal closure': 10, 'preperitoneal dissection': 2, 'mesh positioning': 4, 'positioning suture': 7, 'direct hernia repair': 8, 'catheter insertion': 9, 'adhesiolysis': 0, 'prepertioneal dissection': 2, 'cathter insertion': 9, 'mesh positioning ': 4, 'preperitoneal dissection1': 2}\n"
     ]
    }
   ],
   "source": [
    "#print(len(b1))\n",
    "print(b1)\n",
    "print(b2)\n",
    "print(len(b2))\n",
    "print(len(unique_classes))\n",
    "print(unique_classes)"
   ]
  },
  {
   "cell_type": "code",
   "execution_count": 88,
   "id": "1eea1936",
   "metadata": {},
   "outputs": [
    {
     "name": "stdout",
     "output_type": "stream",
     "text": [
      "35\n",
      "{'stationary idle': 12, 'out of body': 13, 'peritoneal scoring': 1, 'preperioneal dissection': 2, 'reduction of hernia': 3, 'blurry': 14, 'positioning of suture': 6, 'mesh placement': 5, 'peritoneal closure': 10, 'preperitoneal dissection': 2, 'mesh positioning': 4, 'positioning suture': 7, 'direct hernia repair': 8, 'catheter insertion': 9, 'adhesiolysis': 0, 'prepertioneal dissection': 2, 'cathter insertion': 9, 'mesh positioning ': 4, 'preperitoneal dissection1': 2, 'transitionary idle': 11, 'acquiring suture': 6, 'transitionary idle1': 11, 'suture positioning': 7, 'suture positioining': 7, 'prepreitoneal dissection': 2, 'prepetioneal dissection': 2, 'positioining suture': 7, 'transtiionary idle': 11, 'transitioning idle': 11, 'primary hernia repair': 8, 'transitiionary idle1': 11, 'transtitionary idle': 11, 'positioning suture1': 7, 'perperitoneal dissection': 2, 'transtionary idle': 11}\n"
     ]
    }
   ],
   "source": [
    "unique_classes['transitionary idle'] = 11\n",
    "unique_classes['acquiring suture'] = unique_classes['positioning of suture']\n",
    "unique_classes['transitionary idle1'] = 11\n",
    "# the two below are suspicious\n",
    "unique_classes['suture positioning'] = unique_classes['positioning suture']\n",
    "unique_classes['suture positioining'] = unique_classes['positioning suture']\n",
    "\n",
    "unique_classes['prepreitoneal dissection'] = unique_classes['preperitoneal dissection']\n",
    "unique_classes['prepetioneal dissection'] = unique_classes['preperitoneal dissection']\n",
    "unique_classes['positioining suture'] = unique_classes['positioning suture']\n",
    "unique_classes['transtiionary idle'] = 11\n",
    "unique_classes['transitioning idle'] = 11\n",
    "unique_classes['transtionary idle'] = 11\n",
    "unique_classes['primary hernia repair'] = unique_classes['direct hernia repair']\n",
    "unique_classes['transitiionary idle1'] = 11\n",
    "unique_classes['transtitionary idle'] = 11\n",
    "unique_classes['positioning suture1'] = unique_classes['positioning suture']\n",
    "unique_classes['perperitoneal dissection'] = unique_classes['preperitoneal dissection']\n",
    "print(len(unique_classes))\n",
    "print(unique_classes)\n",
    "# neglecting the 'Access' phase"
   ]
  },
  {
   "cell_type": "code",
   "execution_count": 66,
   "id": "1dc8d3fd",
   "metadata": {},
   "outputs": [],
   "source": [
    "def TimeChange(a):\n",
    "    if len(a) != 8:\n",
    "        x = time.strptime(a,'%M:%S')\n",
    "        x1 = int(datetime.timedelta(minutes = x.tm_min, seconds = x.tm_sec).total_seconds())\n",
    "    elif len(a) == 8 and a[:2] == \"00\":\n",
    "        a = a[3:]\n",
    "        x = time.strptime(a,'%M:%S')\n",
    "        x1 = int(datetime.timedelta(minutes = x.tm_min, seconds = x.tm_sec).total_seconds())\n",
    "    else:\n",
    "        x = time.strptime(a,'%H:%M:%S')\n",
    "        x1 = int(datetime.timedelta(hours = x.tm_hour, minutes = x.tm_min, seconds = x.tm_sec).total_seconds())\n",
    "    return x1"
   ]
  },
  {
   "cell_type": "code",
   "execution_count": 91,
   "id": "ad0372a6",
   "metadata": {},
   "outputs": [],
   "source": [
    "indices= []\n",
    "phases =[]\n",
    "for i in range(a2.shape[0]):\n",
    "    index = int(a2.iloc[i,0][-2:])\n",
    "    start_time = int(TimeChange(a2.iloc[i,2]))\n",
    "    end_time = int(TimeChange(a2.iloc[i,3]))\n",
    "    indices1 = [index]*(end_time-start_time)\n",
    "    indices.extend(indices1)\n",
    "    phases1 = [int(unique_classes[a2.iloc[i,1]])]*(end_time-start_time)\n",
    "    phases.extend(phases1)\n",
    "    \n",
    "x2 = {\"Video\":indices, \"Phases\": phases}\n",
    "df = pd.DataFrame(x2, columns = [\"Video\", \"Phases\"])\n",
    "df.to_csv(\"Processed_data.csv\")"
   ]
  }
 ],
 "metadata": {
  "kernelspec": {
   "display_name": "Python 3 (ipykernel)",
   "language": "python",
   "name": "python3"
  },
  "language_info": {
   "codemirror_mode": {
    "name": "ipython",
    "version": 3
   },
   "file_extension": ".py",
   "mimetype": "text/x-python",
   "name": "python",
   "nbconvert_exporter": "python",
   "pygments_lexer": "ipython3",
   "version": "3.8.12"
  }
 },
 "nbformat": 4,
 "nbformat_minor": 5
}
