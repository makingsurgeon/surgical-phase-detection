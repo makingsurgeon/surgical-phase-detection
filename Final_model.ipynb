{
 "cells": [
  {
   "cell_type": "code",
   "execution_count": 65,
   "id": "a402fbfb",
   "metadata": {},
   "outputs": [],
   "source": [
    "import torch\n",
    "import torchvision\n",
    "import torchvision.transforms as transforms\n",
    "import torchvision.models as models\n",
    "import torch.nn as nn\n",
    "import torch.nn.functional as F\n",
    "import torch.optim as optim\n",
    "import time as ti\n",
    "from itertools import count\n",
    "import natsort\n",
    "import datetime\n",
    "import numpy as np\n",
    "import os\n",
    "import math"
   ]
  },
  {
   "cell_type": "code",
   "execution_count": 2,
   "id": "e8b5c38c",
   "metadata": {},
   "outputs": [
    {
     "data": {
      "text/plain": [
       "<torch._C.Generator at 0x7f0cd009b5b0>"
      ]
     },
     "execution_count": 2,
     "metadata": {},
     "output_type": "execute_result"
    }
   ],
   "source": [
    "from torch.utils.data import Dataset, DataLoader, WeightedRandomSampler\n",
    "import albumentations as A\n",
    "from albumentations.pytorch import ToTensorV2\n",
    "import cv2\n",
    "import glob\n",
    "import numpy\n",
    "import random\n",
    "import pandas as pd\n",
    "import tqdm\n",
    "torch.manual_seed(10)"
   ]
  },
  {
   "cell_type": "code",
   "execution_count": 3,
   "id": "793beebc",
   "metadata": {},
   "outputs": [
    {
     "name": "stdout",
     "output_type": "stream",
     "text": [
      "Is CUDA supported by this system? True\n",
      "CUDA version: 11.3\n",
      "ID of current CUDA device: 0\n",
      "Name of current CUDA device: NVIDIA A100-SXM4-40GB\n",
      "cuda:0\n"
     ]
    }
   ],
   "source": [
    "print(f\"Is CUDA supported by this system? {torch.cuda.is_available()}\")\n",
    "print(f\"CUDA version: {torch.version.cuda}\")\n",
    "# Storing ID of current CUDA device\n",
    "cuda_id = torch.cuda.current_device()\n",
    "print(f\"ID of current CUDA device: {torch.cuda.current_device()}\")\n",
    "print(f\"Name of current CUDA device: {torch.cuda.get_device_name(cuda_id)}\")\n",
    "\n",
    "device = torch.device('cuda:0' if torch.cuda.is_available() else 'cpu')\n",
    "print(device)"
   ]
  },
  {
   "cell_type": "code",
   "execution_count": 4,
   "id": "ef67d6d2",
   "metadata": {},
   "outputs": [],
   "source": [
    "class SurgicalDataset(Dataset):\n",
    "    def __init__(self, image_paths, labels, transform=False):\n",
    "        super(SurgicalDataset, self).__init__()\n",
    "        self.image_paths = image_paths\n",
    "        self.labels = labels    #.astype(dtype='int')\n",
    "        self.transform = transform\n",
    "        \n",
    "    def __len__(self):\n",
    "        return len(self.image_paths)\n",
    "\n",
    "    def __getitem__(self, idx):\n",
    "        image_filepath = self.image_paths[idx]\n",
    "        image = cv2.imread(image_filepath)\n",
    "        label = self.labels[idx]\n",
    "        if self.transform is not None:\n",
    "            image = self.transform(image=image)[\"image\"]\n",
    "        \n",
    "        return image, label"
   ]
  },
  {
   "cell_type": "code",
   "execution_count": 5,
   "id": "5b308150",
   "metadata": {},
   "outputs": [],
   "source": [
    "def get_transform(model_name):\n",
    "\n",
    "    if model_name == 'alexnet':\n",
    "        transform = A.Compose([\n",
    "            A.Resize(227, 227),\n",
    "            A.Normalize((0.5, 0.5, 0.5), (0.5, 0.5, 0.5)),\n",
    "            ToTensorV2(),\n",
    "        ])\n",
    "\n",
    "    elif model_name == 'effinet':\n",
    "        transform = A.Compose([\n",
    "            A.Resize(224, 224),\n",
    "            A.Normalize((0.5, 0.5, 0.5), (0.5, 0.5, 0.5)),\n",
    "            ToTensorV2(),\n",
    "        ])\n",
    "        \n",
    "    else:\n",
    "\n",
    "        transform = A.Compose([\n",
    "            A.Resize(224,224),\n",
    "            A.Normalize((0.5,0.5,0.5),(0.5,0.5,0.5)),\n",
    "            ToTensorV2(),\n",
    "        ])\n",
    "    \n",
    "    return transform"
   ]
  },
  {
   "cell_type": "code",
   "execution_count": 6,
   "id": "9bd0d37e",
   "metadata": {},
   "outputs": [],
   "source": [
    "train_image_paths = []\n",
    "for i in range(1,71):\n",
    "    filename = '/home/zo2151/assignments/Data/Video%i'%(i,)\n",
    "    train_image_paths.append(glob.glob(filename + '/*'))\n",
    "train_image_paths1 = [item for sublist in train_image_paths for item in sublist]\n",
    "train_image_paths1 = natsort.natsorted(train_image_paths1)"
   ]
  },
  {
   "cell_type": "code",
   "execution_count": 7,
   "id": "24722db8",
   "metadata": {},
   "outputs": [],
   "source": [
    "df = pd.read_csv(\"/home/zo2151/Processed_data.csv\")\n",
    "df1 = df.loc[:,\"Phases\"].to_numpy()\n",
    "df2 = df1.tolist()\n",
    "percentile_list = pd.DataFrame(\n",
    "    {'Link': train_image_paths1,\n",
    "     'Label': df2,\n",
    "    })"
   ]
  },
  {
   "cell_type": "code",
   "execution_count": 9,
   "id": "f06df63b",
   "metadata": {},
   "outputs": [],
   "source": [
    "percentile_list1 = percentile_list.sample(frac=1, random_state=1)\n",
    "train_image_paths = percentile_list1.loc[:,\"Link\"].to_numpy().tolist()\n",
    "labels = percentile_list1.loc[:,\"Label\"].to_numpy().tolist()\n",
    "train_image_paths, valid_image_paths = train_image_paths[:int(0.8*len(train_image_paths))], train_image_paths[int(0.8*len(train_image_paths)):]  \n",
    "train_labels, valid_labels = labels[:int(0.8*len(labels))], labels[int(0.8*len(labels)):] "
   ]
  },
  {
   "cell_type": "code",
   "execution_count": 10,
   "id": "a9fb8d1d",
   "metadata": {},
   "outputs": [],
   "source": [
    "summary = {i:0 for i in range(14)}\n",
    "num_classes = 14\n",
    "total_samples = 0\n",
    "for i in train_labels:\n",
    "    total_samples += 1\n",
    "    summary[i] += 1\n",
    "\n",
    "class_weights = [total_samples/summary[i] for i in range(num_classes)]\n",
    "weights = [class_weights[train_labels[i]] for i in range(total_samples)]\n",
    "sampler = WeightedRandomSampler(torch.DoubleTensor(weights), len(weights))"
   ]
  },
  {
   "cell_type": "code",
   "execution_count": 11,
   "id": "bd807ae6",
   "metadata": {},
   "outputs": [],
   "source": [
    "class Classifier():\n",
    "\n",
    "    def __init__(self, name, model, dataloaders, parameter, use_cuda=False):\n",
    "        \n",
    "        '''\n",
    "        @name: Experiment name. Will define stored results etc. \n",
    "        @model: Any models\n",
    "        @dataloaders: Dictionary with keys train, val and test and corresponding dataloaders\n",
    "        @class_names: list of classes, where the idx of class name corresponds to the label used for it in the data\n",
    "        @use_cuda: whether or not to use cuda\n",
    "        '''\n",
    "       \n",
    "        self.name = name\n",
    "        if use_cuda and not torch.cuda.is_available():\n",
    "            raise Exception(\"Asked for CUDA but GPU not found\")\n",
    "            \n",
    "        self.use_cuda = use_cuda\n",
    "        self.epoch = parameter['epochs']\n",
    "        self.lr = parameter['lr']\n",
    "        self.batch_size = parameter['batch_size']\n",
    "        \n",
    "        self.model = model.to('cuda' if use_cuda else 'cpu') # model.to('cpu')\n",
    "        self.criterion = nn.CrossEntropyLoss()\n",
    "        self.optimizer = optim.Adam(self.model.parameters(), lr=self.lr)\n",
    "        self.train_loader, self.valid_loader = self.get_dataloaders(dataloaders['train_image_paths'], \n",
    "                                                                    dataloaders['train_labels'], \n",
    "                                                                    dataloaders['valid_image_paths'], \n",
    "                                                                    dataloaders['valid_labels'], \n",
    "                                                                    train_transforms=dataloaders['transforms'], \n",
    "                                                                    batch_size = self.batch_size,\n",
    "                                                                    shuffle=parameter['shuffle'],\n",
    "                                                                   sampler = dataloaders['sampler'])\n",
    "        self.class_names = parameter['class_names']\n",
    "        \n",
    "        self.activations_path = os.path.join('activations', self.name)\n",
    "        self.kernel_path = os.path.join('kernel_viz', self.name)\n",
    "        save_path = \"/home/zo2151/\"\n",
    "        if not os.path.exists(save_path):\n",
    "            os.makedirs(save_path)\n",
    "\n",
    "        if not os.path.exists(self.activations_path):\n",
    "            os.makedirs(self.activations_path)\n",
    "\n",
    "        if not os.path.exists(self.kernel_path):\n",
    "            os.makedirs(self.kernel_path)\n",
    "            \n",
    "        self.save_path = save_path\n",
    "\n",
    "    def train(self, save=True):\n",
    "        '''\n",
    "        @epochs: number of epochs to train\n",
    "        @save: whether or not to save the checkpoints\n",
    "        '''\n",
    "        best_val_accuracy = - math.inf\n",
    "        \n",
    "        for epoch in range(self.epoch):  # loop over the dataset multiple times\n",
    "            self.model.train()\n",
    "            t = time.time()\n",
    "            running_loss = 0.0\n",
    "            train_acc = 0\n",
    "            val_accuracy = 0\n",
    "            correct = 0\n",
    "            total = 0\n",
    "            count = 0\n",
    "            loop = tqdm.tqdm(self.train_loader, total = len(self.train_loader), leave = True)\n",
    "            \n",
    "            for img, label in loop:\n",
    "                # get the inputs; data is a list of [inputs, labels]\n",
    "                inputs, labels = img.to(device), label.to(device) #img.to(device), label.to(device)\n",
    "\n",
    "                # zero the parameter gradients\n",
    "                self.optimizer.zero_grad()\n",
    "\n",
    "                # forward + backward + optimize\n",
    "                outputs = self.model(inputs)\n",
    "                _, predictions = torch.max(outputs, 1)\n",
    "                loss = self.criterion(outputs, labels)\n",
    "                loss.backward()\n",
    "                self.optimizer.step()\n",
    "\n",
    "                # print statistics\n",
    "                running_loss += loss.item()\n",
    "                total += labels.shape[0]\n",
    "                correct += (predictions == labels).sum().item()\n",
    "                \n",
    "                count += 1\n",
    "                if count % 2000 == 1999:    # print every 2000 mini-batches\n",
    "                    print(f'[{epoch + 1}, {count + 1:5d}] loss: {running_loss / 2000:.3f}')\n",
    "                    running_loss = 0.0\n",
    "                    \n",
    "            train_acc = 100 * correct / total\n",
    "            print(f'Epoch:', epoch + 1, f'Training Epoch Accuracy:{train_acc}')\n",
    "            \n",
    "            # evaluate the validation dataset\n",
    "            self.model.eval()\n",
    "            correct_pred = {classname: 0 for classname in self.class_names}\n",
    "            total_pred = {classname: 0 for classname in self.class_names}\n",
    "\n",
    "            # again no gradients needed\n",
    "            correct = 0\n",
    "            total = 0\n",
    "            with torch.no_grad():\n",
    "                for data in self.valid_loader:\n",
    "                    images, labels = data[0].to(device), data[1].to(device) #data[0], data[1]\n",
    "                    outputs = self.model(images)\n",
    "                    _, predictions = torch.max(outputs, 1)\n",
    "                    # collect the correct predictions for each class\n",
    "                    total += labels.shape[0]\n",
    "                    correct += (predictions == labels).sum().item()\n",
    "\n",
    "                    for label, prediction in zip(labels, predictions):\n",
    "                        if label == prediction:\n",
    "                            correct_pred[classes[label]] += 1\n",
    "                        total_pred[classes[label]] += 1\n",
    "\n",
    "            val_accuracy = 100 * correct / total\n",
    "            print(f'Epoch:', epoch + 1, f'Validation Epoch Accuracy:{val_accuracy}')\n",
    "                        \n",
    "            # print the summary for each class\n",
    "            print('Epoch:', epoch + 1, 'Correct predictions', correct_pred)\n",
    "            print('Epoch:', epoch + 1, 'Total predictions', total_pred)\n",
    "            print('Epoch:', epoch + 1, 'Correct predictions', correct_pred)\n",
    "            print('Epoch:', epoch + 1, 'Total predictions', total_pred)\n",
    "            \n",
    "            # inspect the time taken to train one epoch\n",
    "            d = time.time()-t\n",
    "            print('Fininsh Trainig Epoch', epoch, '!', 'Time used:', d)\n",
    "            \n",
    "            if save:\n",
    "                torch.save(self.model.state_dict(), os.path.join(self.save_path, \"model4.pt\"))\n",
    "                if val_accuracy > best_val_accuracy:\n",
    "                    torch.save(self.model.state_dict(), os.path.join(self.save_path, 'best.pt'))\n",
    "                    best_val_accuracy = val_accuracy\n",
    "\n",
    "        print('Done training!')                       \n",
    "\n",
    "    \n",
    "    def evaluate(self):\n",
    "        # for evaluating the test dataset if there were any.\n",
    "        try:\n",
    "            assert os.path.exists(os.path.join(self.save_path, 'best.pt'))\n",
    "            \n",
    "        except:\n",
    "            print('Please train first')\n",
    "            return\n",
    "        \n",
    "        self.model.load_state_dict(torch.load(os.path.join(self.save_path, 'best.pt')))\n",
    "        self.model.eval()\n",
    "        \n",
    "    def get_dataloaders(self, train_image_paths, train_labels, valid_image_paths, valid_labels, train_transforms=False, batch_size=32, shuffle=True, sampler = None):\n",
    "        train_dataset = SurgicalDataset(train_image_paths,train_labels, train_transforms)\n",
    "        val_dataset = SurgicalDataset(valid_image_paths,valid_labels, train_transforms)\n",
    "        train_loader = DataLoader(train_dataset, batch_size, shuffle, sampler)\n",
    "        valid_loader = DataLoader(val_dataset, batch_size, shuffle = True)\n",
    "        return train_loader, valid_loader\n",
    "    \n",
    "    def grad_cam_on_input(self, img):\n",
    "        \n",
    "        try:\n",
    "            assert os.path.exists(os.path.join(self.save_path, 'best.pt'))\n",
    "\n",
    "        except:\n",
    "            print('It appears you are testing the model without training. Please train first')\n",
    "            return\n",
    "\n",
    "        self.model.load_state_dict(torch.load(os.path.join(self.save_path, 'best.pt')))\n",
    "\n",
    "\n",
    "        self.model.eval()\n",
    "        img = img.to('cuda' if self.use_cuda else 'cpu')\n",
    "\n",
    "\n",
    "        out = self.model(img)\n",
    "\n",
    "        _, pred = torch.max(out, 1)\n",
    "\n",
    "        predicted_class = self.class_names[int(pred)]\n",
    "        print(f'Predicted class was {predicted_class}')\n",
    "\n",
    "        out[:, pred].backward()\n",
    "        gradients = self.model.get_gradient_activations()\n",
    "\n",
    "        print('Gradients shape: ', f'{gradients.shape}')\n",
    "\n",
    "        mean_gradients = torch.mean(gradients, [0, 2, 3]).cpu()\n",
    "        activations = self.model.get_final_conv_layer(img).detach().cpu()\n",
    "\n",
    "        print('Activations shape: ', f'{activations.shape}')\n",
    "\n",
    "        for idx in range(activations.shape[1]):\n",
    "            activations[:, idx, :, :] *= mean_gradients[idx]\n",
    "\n",
    "        final_heatmap = np.maximum(torch.mean(activations, dim=1).squeeze(), 0)\n",
    "\n",
    "        final_heatmap /= torch.max(final_heatmap)\n",
    "\n",
    "        return final_heatmap\n",
    "\n",
    "    def trained_kernel_viz(self):\n",
    "        \n",
    "        all_layers = [0, 3]\n",
    "        all_filters = []\n",
    "        for layer in all_layers:\n",
    "\n",
    "            filters = self.model.conv_model[layer].weight\n",
    "            all_filters.append(filters.detach().cpu().clone()[:8, :8, :, :])\n",
    "\n",
    "        for filter_idx in range(len(all_filters)):\n",
    "\n",
    "            filter = all_filters[filter_idx]\n",
    "            print(filter.shape)\n",
    "            filter = filter.contiguous().view(-1, 1, filter.shape[2], filter.shape[3])\n",
    "            image = show_img(make_grid(filter))\n",
    "            image = 255 * image\n",
    "            cv2.imwrite(os.path.join(self.kernel_path, f'filter_layer{all_layers[filter_idx]}.jpg'), image)\n",
    "    \n",
    "\n",
    "    def activations_on_input(self, img):\n",
    "        \n",
    "        img = img.to('cuda' if self.use_cuda else 'cpu')\n",
    "\n",
    "        all_layers = [0,3,6,8,10]\n",
    "        all_viz = []\n",
    "        \n",
    "        # looking at the outputs of the relu\n",
    "        for each in all_layers:\n",
    "\n",
    "            current_model = self.model.conv_model[:each+1]\n",
    "            current_out = current_model(img)\n",
    "            all_viz.append(current_out.detach().cpu().clone()[:, :64, :, :])\n",
    "\n",
    "        for viz_idx in range(len(all_viz)):\n",
    "\n",
    "            viz = all_viz[viz_idx]\n",
    "            viz = viz.view(-1, 1, viz.shape[2], viz.shape[3])\n",
    "            image = show_img(make_grid(viz))\n",
    "            image = 255 * image\n",
    "            cv2.imwrite(os.path.join(self.activations_path, f'sample_layer{all_layers[viz_idx]}.jpg'), image)    \n",
    "        "
   ]
  },
  {
   "cell_type": "code",
   "execution_count": 13,
   "id": "922454fe",
   "metadata": {},
   "outputs": [
    {
     "name": "stderr",
     "output_type": "stream",
     "text": [
      "Downloading: \"https://download.pytorch.org/models/efficientnet_b7_lukemelas-dcc49843.pth\" to /home/zo2151/.cache/torch/hub/checkpoints/efficientnet_b7_lukemelas-dcc49843.pth\n"
     ]
    },
    {
     "data": {
      "application/vnd.jupyter.widget-view+json": {
       "model_id": "ca8236fcf2864e78a3241244e8ea6545",
       "version_major": 2,
       "version_minor": 0
      },
      "text/plain": [
       "  0%|          | 0.00/255M [00:00<?, ?B/s]"
      ]
     },
     "metadata": {},
     "output_type": "display_data"
    }
   ],
   "source": [
    "import ssl\n",
    "\n",
    "ssl._create_default_https_context = ssl._create_unverified_context\n",
    "example_model = models.efficientnet_b7(pretrained=True)"
   ]
  },
  {
   "cell_type": "code",
   "execution_count": 14,
   "id": "b1146d60",
   "metadata": {},
   "outputs": [],
   "source": [
    "class TransferEffiNet(nn.Module):\n",
    "    def __init__(self):\n",
    "        super().__init__()\n",
    "        self.base_effi_net = models.efficientnet_b7(pretrained=True)\n",
    "        self.conv_model = self.get_conv_layers()\n",
    "        self.avg_pool = self.transition_layer()\n",
    "        self.fc_model = self.get_fc_layers()\n",
    "        self.activate_training_layers()\n",
    "\n",
    "    def activate_training_layers(self):\n",
    "        for name, param in self.conv_model.named_parameters():\n",
    "            number = int(name.split('.')[1])\n",
    "            # for all layers except the last conv layer, set param.requires_grad = False\n",
    "            if number == 8:\n",
    "                param.requires_grad = True\n",
    "            else:\n",
    "                param.requires_grad = False\n",
    "                \n",
    "        for name, param in self.fc_model.named_parameters():\n",
    "            # for all of these layers set param.requires_grad as True\n",
    "            param.requires_grad = True\n",
    "\n",
    "    def get_conv_layers(self):\n",
    "        return self.base_effi_net.features\n",
    "\n",
    "    def transition_layer(self):\n",
    "        return self.base_effi_net.avgpool\n",
    "\n",
    "    def get_fc_layers(self):\n",
    "        return nn.Sequential(\n",
    "            nn.Dropout(p=0.5, inplace=False),\n",
    "            nn.Linear(in_features=2560, out_features=1024, bias=True),\n",
    "            nn.ReLU(inplace=True),\n",
    "            nn.Dropout(p=0.5, inplace=False),\n",
    "            nn.Linear(in_features=1024, out_features=512, bias=True),\n",
    "            nn.ReLU(inplace=True),\n",
    "            nn.Linear(in_features=512, out_features=14, bias=True),\n",
    "        )\n",
    "    \n",
    "    def forward(self, x):\n",
    "        x = self.conv_model(x)   #call the conv layers\n",
    "        x = self.avg_pool(x)  #call the avg pool layer\n",
    "        x = torch.flatten(x, 1)\n",
    "        x = self.fc_model(x)  #call fully connected layers  \n",
    "        \n",
    "        return x"
   ]
  },
  {
   "cell_type": "code",
   "execution_count": 15,
   "id": "bdf33f94",
   "metadata": {},
   "outputs": [
    {
     "name": "stderr",
     "output_type": "stream",
     "text": [
      " 37%|██████████████████████████▍                                            | 1999/5377 [10:36<17:27,  3.22it/s]"
     ]
    },
    {
     "name": "stdout",
     "output_type": "stream",
     "text": [
      "[1,  2000] loss: 0.621\n"
     ]
    },
    {
     "name": "stderr",
     "output_type": "stream",
     "text": [
      " 74%|████████████████████████████████████████████████████▊                  | 3999/5377 [20:54<07:03,  3.25it/s]"
     ]
    },
    {
     "name": "stdout",
     "output_type": "stream",
     "text": [
      "[1,  4000] loss: 0.412\n"
     ]
    },
    {
     "name": "stderr",
     "output_type": "stream",
     "text": [
      "100%|███████████████████████████████████████████████████████████████████████| 5377/5377 [27:58<00:00,  3.20it/s]\n"
     ]
    },
    {
     "name": "stdout",
     "output_type": "stream",
     "text": [
      "Epoch: 1 Training Epoch Accuracy:83.91176727019094\n",
      "Epoch: 1 Validation Epoch Accuracy:85.82488607830373\n",
      "Epoch: 1 Correct predictions {0: 51, 1: 18, 2: 561, 3: 5191, 4: 195, 5: 283, 6: 9109, 7: 2103, 8: 2534, 9: 5339, 10: 244, 11: 8905, 12: 392, 13: 1990}\n",
      "Epoch: 1 Total predictions {0: 52, 1: 18, 2: 587, 3: 5470, 4: 213, 5: 288, 6: 11135, 7: 2177, 8: 3001, 9: 5799, 10: 247, 11: 10405, 12: 404, 13: 3216}\n",
      "Epoch: 1 Correct predictions {0: 51, 1: 18, 2: 561, 3: 5191, 4: 195, 5: 283, 6: 9109, 7: 2103, 8: 2534, 9: 5339, 10: 244, 11: 8905, 12: 392, 13: 1990}\n",
      "Epoch: 1 Total predictions {0: 52, 1: 18, 2: 587, 3: 5470, 4: 213, 5: 288, 6: 11135, 7: 2177, 8: 3001, 9: 5799, 10: 247, 11: 10405, 12: 404, 13: 3216}\n",
      "Fininsh Trainig Epoch 0 ! Time used: 2064.4031040668488\n"
     ]
    },
    {
     "name": "stderr",
     "output_type": "stream",
     "text": [
      " 37%|██████████████████████████▍                                            | 1999/5377 [10:12<17:08,  3.28it/s]"
     ]
    },
    {
     "name": "stdout",
     "output_type": "stream",
     "text": [
      "[2,  2000] loss: 0.312\n"
     ]
    },
    {
     "name": "stderr",
     "output_type": "stream",
     "text": [
      " 74%|████████████████████████████████████████████████████▊                  | 3999/5377 [20:23<06:59,  3.28it/s]"
     ]
    },
    {
     "name": "stdout",
     "output_type": "stream",
     "text": [
      "[2,  4000] loss: 0.290\n"
     ]
    },
    {
     "name": "stderr",
     "output_type": "stream",
     "text": [
      "100%|███████████████████████████████████████████████████████████████████████| 5377/5377 [27:23<00:00,  3.27it/s]\n"
     ]
    },
    {
     "name": "stdout",
     "output_type": "stream",
     "text": [
      "Epoch: 2 Training Epoch Accuracy:90.37867999651255\n",
      "Epoch: 2 Validation Epoch Accuracy:91.16060634241607\n",
      "Epoch: 2 Correct predictions {0: 51, 1: 17, 2: 563, 3: 5073, 4: 190, 5: 283, 6: 10310, 7: 2116, 8: 2533, 9: 5361, 10: 247, 11: 9797, 12: 401, 13: 2268}\n",
      "Epoch: 2 Total predictions {0: 52, 1: 18, 2: 587, 3: 5470, 4: 213, 5: 288, 6: 11135, 7: 2177, 8: 3001, 9: 5799, 10: 247, 11: 10405, 12: 404, 13: 3216}\n",
      "Epoch: 2 Correct predictions {0: 51, 1: 17, 2: 563, 3: 5073, 4: 190, 5: 283, 6: 10310, 7: 2116, 8: 2533, 9: 5361, 10: 247, 11: 9797, 12: 401, 13: 2268}\n",
      "Epoch: 2 Total predictions {0: 52, 1: 18, 2: 587, 3: 5470, 4: 213, 5: 288, 6: 11135, 7: 2177, 8: 3001, 9: 5799, 10: 247, 11: 10405, 12: 404, 13: 3216}\n",
      "Fininsh Trainig Epoch 1 ! Time used: 2006.2973544597626\n"
     ]
    },
    {
     "name": "stderr",
     "output_type": "stream",
     "text": [
      " 37%|██████████████████████████▍                                            | 1999/5377 [10:13<23:57,  2.35it/s]"
     ]
    },
    {
     "name": "stdout",
     "output_type": "stream",
     "text": [
      "[3,  2000] loss: 0.261\n"
     ]
    },
    {
     "name": "stderr",
     "output_type": "stream",
     "text": [
      " 74%|████████████████████████████████████████████████████▊                  | 3999/5377 [23:39<09:18,  2.47it/s]"
     ]
    },
    {
     "name": "stdout",
     "output_type": "stream",
     "text": [
      "[3,  4000] loss: 0.241\n"
     ]
    },
    {
     "name": "stderr",
     "output_type": "stream",
     "text": [
      "100%|███████████████████████████████████████████████████████████████████████| 5377/5377 [31:49<00:00,  2.82it/s]\n"
     ]
    },
    {
     "name": "stdout",
     "output_type": "stream",
     "text": [
      "Epoch: 3 Training Epoch Accuracy:91.92420587636956\n",
      "Epoch: 3 Validation Epoch Accuracy:92.81828326978517\n",
      "Epoch: 3 Correct predictions {0: 51, 1: 17, 2: 567, 3: 5233, 4: 191, 5: 282, 6: 10696, 7: 2138, 8: 2505, 9: 5458, 10: 245, 11: 9839, 12: 394, 13: 2307}\n",
      "Epoch: 3 Total predictions {0: 52, 1: 18, 2: 587, 3: 5470, 4: 213, 5: 288, 6: 11135, 7: 2177, 8: 3001, 9: 5799, 10: 247, 11: 10405, 12: 404, 13: 3216}\n",
      "Epoch: 3 Correct predictions {0: 51, 1: 17, 2: 567, 3: 5233, 4: 191, 5: 282, 6: 10696, 7: 2138, 8: 2505, 9: 5458, 10: 245, 11: 9839, 12: 394, 13: 2307}\n",
      "Epoch: 3 Total predictions {0: 52, 1: 18, 2: 587, 3: 5470, 4: 213, 5: 288, 6: 11135, 7: 2177, 8: 3001, 9: 5799, 10: 247, 11: 10405, 12: 404, 13: 3216}\n",
      "Fininsh Trainig Epoch 2 ! Time used: 2272.039259672165\n"
     ]
    },
    {
     "name": "stderr",
     "output_type": "stream",
     "text": [
      " 37%|██████████████████████████▍                                            | 1999/5377 [10:07<17:12,  3.27it/s]"
     ]
    },
    {
     "name": "stdout",
     "output_type": "stream",
     "text": [
      "[4,  2000] loss: 0.220\n"
     ]
    },
    {
     "name": "stderr",
     "output_type": "stream",
     "text": [
      " 74%|████████████████████████████████████████████████████▊                  | 3999/5377 [20:15<06:56,  3.30it/s]"
     ]
    },
    {
     "name": "stdout",
     "output_type": "stream",
     "text": [
      "[4,  4000] loss: 0.213\n"
     ]
    },
    {
     "name": "stderr",
     "output_type": "stream",
     "text": [
      "100%|███████████████████████████████████████████████████████████████████████| 5377/5377 [27:13<00:00,  3.29it/s]\n"
     ]
    },
    {
     "name": "stdout",
     "output_type": "stream",
     "text": [
      "Epoch: 4 Training Epoch Accuracy:93.23316574152112\n",
      "Epoch: 4 Validation Epoch Accuracy:92.2347251929694\n",
      "Epoch: 4 Correct predictions {0: 52, 1: 17, 2: 573, 3: 5085, 4: 199, 5: 286, 6: 10481, 7: 2109, 8: 2657, 9: 5668, 10: 246, 11: 9516, 12: 399, 13: 2384}\n",
      "Epoch: 4 Total predictions {0: 52, 1: 18, 2: 587, 3: 5470, 4: 213, 5: 288, 6: 11135, 7: 2177, 8: 3001, 9: 5799, 10: 247, 11: 10405, 12: 404, 13: 3216}\n",
      "Epoch: 4 Correct predictions {0: 52, 1: 17, 2: 573, 3: 5085, 4: 199, 5: 286, 6: 10481, 7: 2109, 8: 2657, 9: 5668, 10: 246, 11: 9516, 12: 399, 13: 2384}\n",
      "Epoch: 4 Total predictions {0: 52, 1: 18, 2: 587, 3: 5470, 4: 213, 5: 288, 6: 11135, 7: 2177, 8: 3001, 9: 5799, 10: 247, 11: 10405, 12: 404, 13: 3216}\n",
      "Fininsh Trainig Epoch 3 ! Time used: 1996.2453582286835\n"
     ]
    },
    {
     "name": "stderr",
     "output_type": "stream",
     "text": [
      " 37%|██████████████████████████▍                                            | 1999/5377 [10:06<16:57,  3.32it/s]"
     ]
    },
    {
     "name": "stdout",
     "output_type": "stream",
     "text": [
      "[5,  2000] loss: 0.202\n"
     ]
    },
    {
     "name": "stderr",
     "output_type": "stream",
     "text": [
      " 74%|████████████████████████████████████████████████████▊                  | 3999/5377 [20:13<06:57,  3.30it/s]"
     ]
    },
    {
     "name": "stdout",
     "output_type": "stream",
     "text": [
      "[5,  4000] loss: 0.190\n"
     ]
    },
    {
     "name": "stderr",
     "output_type": "stream",
     "text": [
      "100%|███████████████████████████████████████████████████████████████████████| 5377/5377 [27:11<00:00,  3.30it/s]\n"
     ]
    },
    {
     "name": "stdout",
     "output_type": "stream",
     "text": [
      "Epoch: 5 Training Epoch Accuracy:93.93937632596123\n",
      "Epoch: 5 Validation Epoch Accuracy:93.02055240398029\n",
      "Epoch: 5 Correct predictions {0: 52, 1: 18, 2: 560, 3: 5325, 4: 187, 5: 281, 6: 10528, 7: 2090, 8: 2665, 9: 5674, 10: 246, 11: 9608, 12: 401, 13: 2375}\n",
      "Epoch: 5 Total predictions {0: 52, 1: 18, 2: 587, 3: 5470, 4: 213, 5: 288, 6: 11135, 7: 2177, 8: 3001, 9: 5799, 10: 247, 11: 10405, 12: 404, 13: 3216}\n",
      "Epoch: 5 Correct predictions {0: 52, 1: 18, 2: 560, 3: 5325, 4: 187, 5: 281, 6: 10528, 7: 2090, 8: 2665, 9: 5674, 10: 246, 11: 9608, 12: 401, 13: 2375}\n",
      "Epoch: 5 Total predictions {0: 52, 1: 18, 2: 587, 3: 5470, 4: 213, 5: 288, 6: 11135, 7: 2177, 8: 3001, 9: 5799, 10: 247, 11: 10405, 12: 404, 13: 3216}\n",
      "Fininsh Trainig Epoch 4 ! Time used: 1995.0119655132294\n",
      "Done training!\n"
     ]
    }
   ],
   "source": [
    "name = 'TransferEffiNet'\n",
    "classes = [i for i in range(14)]\n",
    "transforms = get_transform('effinet')\n",
    "dataloaders = {'train_image_paths': train_image_paths, 'train_labels' : train_labels, 'valid_image_paths': valid_image_paths, 'valid_labels':valid_labels, 'transforms':transforms, 'sampler':sampler}\n",
    "parameters = {'lr': 0.001, 'epochs' : 5, 'batch_size':32, 'shuffle':False, 'class_names':classes}\n",
    "\n",
    "model = TransferEffiNet()\n",
    "classifier = Classifier(name, model, dataloaders, parameters, use_cuda=True)\n",
    "classifier.train()"
   ]
  },
  {
   "cell_type": "code",
   "execution_count": 16,
   "id": "ad1fb8b2",
   "metadata": {},
   "outputs": [],
   "source": [
    "import numpy as np\n",
    "import matplotlib.pyplot as plt\n",
    "from sklearn import metrics\n",
    "import time\n",
    "from sklearn.metrics import confusion_matrix, ConfusionMatrixDisplay, classification_report, roc_curve, auc\n",
    "from sklearn.metrics import precision_score \n",
    "from sklearn.metrics import recall_score\n",
    "from sklearn.metrics import f1_score\n",
    "import seaborn as sns"
   ]
  },
  {
   "cell_type": "code",
   "execution_count": 17,
   "id": "38d3342d",
   "metadata": {},
   "outputs": [],
   "source": [
    "class TransferEffiNet(nn.Module):\n",
    "    def __init__(self):\n",
    "        super().__init__()\n",
    "        self.base_effi_net = models.efficientnet_b7(pretrained=True)\n",
    "        self.conv_model = self.get_conv_layers()\n",
    "        self.avg_pool = self.transition_layer()\n",
    "        self.fc_model = self.get_fc_layers()\n",
    "        self.activate_training_layers()\n",
    "\n",
    "    def activate_training_layers(self):\n",
    "        for name, param in self.conv_model.named_parameters():\n",
    "            number = int(name.split('.')[1])\n",
    "            # for all layers except the last conv layer, set param.requires_grad = False\n",
    "            if number == 8:\n",
    "                param.requires_grad = True\n",
    "            else:\n",
    "                param.requires_grad = False\n",
    "                \n",
    "        for name, param in self.fc_model.named_parameters():\n",
    "            # for all of these layers set param.requires_grad as True\n",
    "            param.requires_grad = True\n",
    "\n",
    "    def get_conv_layers(self):\n",
    "        return self.base_effi_net.features\n",
    "\n",
    "    def transition_layer(self):\n",
    "        return self.base_effi_net.avgpool\n",
    "\n",
    "    def get_fc_layers(self):\n",
    "        return nn.Sequential(\n",
    "            nn.Dropout(p=0.5, inplace=False),\n",
    "            nn.Linear(in_features=2560, out_features=1024, bias=True),\n",
    "            nn.ReLU(inplace=True),\n",
    "            nn.Dropout(p=0.5, inplace=False),\n",
    "            nn.Linear(in_features=1024, out_features=512, bias=True),\n",
    "            nn.ReLU(inplace=True),\n",
    "            nn.Linear(in_features=512, out_features=14, bias=True),\n",
    "        )\n",
    "    \n",
    "    def forward(self, x):\n",
    "        x = self.conv_model(x)   #call the conv layers\n",
    "        x = self.avg_pool(x)  #call the avg pool layer\n",
    "        x = torch.flatten(x, 1)\n",
    "        x = self.fc_model(x)  #call fully connected layers  \n",
    "        \n",
    "        return x\n",
    "    \n",
    "    "
   ]
  },
  {
   "cell_type": "code",
   "execution_count": 19,
   "id": "544e7b53",
   "metadata": {},
   "outputs": [],
   "source": [
    "def get_pred(model, train_transforms, batch_size, use_cuda=True):\n",
    "    val_dataset = SurgicalDataset(valid_image_paths, valid_labels, train_transforms)\n",
    "    valid_loader = DataLoader(val_dataset, batch_size, shuffle = False)\n",
    "    model = model.to('cuda' if use_cuda else 'cpu')\n",
    "    pr = []\n",
    "    pred = []\n",
    "    l = []\n",
    "    # again no gradients needed\n",
    "    t = time.time()\n",
    "    negative_examples = []\n",
    "    model.eval()\n",
    "    with torch.no_grad():\n",
    "        for data in valid_loader:\n",
    "            images, labels = data[0].to(device), data[1].to(device)\n",
    "            l.append(labels)\n",
    "            outputs = model(images)\n",
    "            _, predictions = torch.max(outputs, 1)\n",
    "            m = F.softmax(outputs, dim=1)\n",
    "            # collect the correct predictions for each class\n",
    "            for label, prediction in zip(labels, predictions):\n",
    "                pred.append(prediction)\n",
    "            for p in m:\n",
    "                pr.append(p)\n",
    "                \n",
    "    processtime = time.time()-t\n",
    "    print('processtime', processtime)\n",
    "    return l, pred, pr, processtime"
   ]
  },
  {
   "cell_type": "code",
   "execution_count": 20,
   "id": "f8c9627a",
   "metadata": {},
   "outputs": [
    {
     "name": "stdout",
     "output_type": "stream",
     "text": [
      "processtime 330.7153015136719\n"
     ]
    },
    {
     "ename": "NameError",
     "evalue": "name 'get_to_cpu' is not defined",
     "output_type": "error",
     "traceback": [
      "\u001b[0;31m---------------------------------------------------------------------------\u001b[0m",
      "\u001b[0;31mNameError\u001b[0m                                 Traceback (most recent call last)",
      "\u001b[0;32m/tmp/ipykernel_3609/2075712870.py\u001b[0m in \u001b[0;36m<module>\u001b[0;34m\u001b[0m\n\u001b[1;32m     11\u001b[0m \u001b[0mbatch_size\u001b[0m \u001b[0;34m=\u001b[0m \u001b[0;36m32\u001b[0m\u001b[0;34m\u001b[0m\u001b[0;34m\u001b[0m\u001b[0m\n\u001b[1;32m     12\u001b[0m \u001b[0my_test_true\u001b[0m\u001b[0;34m,\u001b[0m \u001b[0my_test_predicted\u001b[0m\u001b[0;34m,\u001b[0m \u001b[0mpr\u001b[0m\u001b[0;34m,\u001b[0m \u001b[0mtime\u001b[0m \u001b[0;34m=\u001b[0m \u001b[0mget_pred\u001b[0m\u001b[0;34m(\u001b[0m\u001b[0mbest_effi\u001b[0m\u001b[0;34m,\u001b[0m \u001b[0mtransforms\u001b[0m\u001b[0;34m,\u001b[0m \u001b[0mbatch_size\u001b[0m\u001b[0;34m)\u001b[0m\u001b[0;34m\u001b[0m\u001b[0;34m\u001b[0m\u001b[0m\n\u001b[0;32m---> 13\u001b[0;31m \u001b[0my_test_true\u001b[0m\u001b[0;34m,\u001b[0m \u001b[0my_test_predicted\u001b[0m\u001b[0;34m,\u001b[0m \u001b[0mpr\u001b[0m \u001b[0;34m=\u001b[0m \u001b[0mget_to_cpu\u001b[0m\u001b[0;34m(\u001b[0m\u001b[0my_test_true\u001b[0m\u001b[0;34m,\u001b[0m \u001b[0my_test_predicted\u001b[0m\u001b[0;34m,\u001b[0m \u001b[0mpr\u001b[0m\u001b[0;34m)\u001b[0m\u001b[0;34m\u001b[0m\u001b[0;34m\u001b[0m\u001b[0m\n\u001b[0m\u001b[1;32m     14\u001b[0m \u001b[0my_true\u001b[0m\u001b[0;34m,\u001b[0m \u001b[0my_predicted\u001b[0m \u001b[0;34m=\u001b[0m \u001b[0mget_class_names\u001b[0m\u001b[0;34m(\u001b[0m\u001b[0my_test_true\u001b[0m\u001b[0;34m,\u001b[0m \u001b[0my_test_predicted\u001b[0m\u001b[0;34m,\u001b[0m \u001b[0mclasses\u001b[0m\u001b[0;34m)\u001b[0m\u001b[0;34m\u001b[0m\u001b[0;34m\u001b[0m\u001b[0m\n",
      "\u001b[0;31mNameError\u001b[0m: name 'get_to_cpu' is not defined"
     ]
    }
   ],
   "source": [
    "classes = ['adhesiolysis', 'blurry', 'catheter insertion', 'mesh placement', 'mesh positioning', 'out of body', 'peritoneal closure', 'peritoneal scoring', \n",
    "          'positioning suture', 'preperioneal dissection', 'primary hernia repair', 'reduction of hernia', 'stationary idle', 'transitionary idle']\n",
    "save_path = os.path.join(os.getcwd(), 'models', 'TransferEffiNet')\n",
    "best_effi = TransferEffiNet()\n",
    "best_effi.load_state_dict(torch.load(os.path.join(save_path, 'best.pt')))\n",
    "transforms = get_transform('effinet')\n",
    "batch_size = 32\n",
    "y_test_true, y_test_predicted, pr, time = get_pred(best_effi, transforms, batch_size)"
   ]
  },
  {
   "cell_type": "code",
   "execution_count": 22,
   "id": "5bd87832",
   "metadata": {},
   "outputs": [],
   "source": [
    "def get_to_cpu(l, pred, pr):\n",
    "    for i in range(len(l)):\n",
    "        l[i] = l[i].cpu()\n",
    "    for i in range(len(l)):\n",
    "        l[i] = l[i].data.numpy()\n",
    "    l = [item for sublist in l for item in sublist]\n",
    "    for i in range(len(l)):\n",
    "        pred[i] = pred[i].cpu().data.numpy()\n",
    "    for i in range(len(l)):\n",
    "        pr[i] = pr[i].cpu().data.numpy()\n",
    "    return l, pred, pr\n",
    "\n",
    "def get_class_names(y_true, y_predicted, classes):\n",
    "    yt = [classes[i] for i in y_true]\n",
    "    yp = [classes[i] for i in y_predicted]\n",
    "    return yt, yp\n",
    "y_test_true, y_test_predicted, pr = get_to_cpu(y_test_true, y_test_predicted, pr)"
   ]
  },
  {
   "cell_type": "code",
   "execution_count": 30,
   "id": "54cafa43",
   "metadata": {},
   "outputs": [],
   "source": [
    "classes = ['adhesiolysis', 'blurry', 'catheter insertion', 'mesh placement', 'mesh positioning', 'out of body', 'peritoneal closure', 'peritoneal scoring', \n",
    "          'positioning suture', 'preperioneal dissection', 'primary hernia repair', 'reduction of hernia', 'stationary idle', 'transitionary idle']\n",
    "y_true, y_predicted = get_class_names(y_test_true, y_test_predicted, classes)"
   ]
  },
  {
   "cell_type": "code",
   "execution_count": 31,
   "id": "9cf3ba13",
   "metadata": {},
   "outputs": [
    {
     "data": {
      "image/png": "[encoded data removed]",
      "text/plain": [
       "<Figure size 432x288 with 2 Axes>"
      ]
     },
     "metadata": {
      "needs_background": "light"
     },
     "output_type": "display_data"
    },
    {
     "name": "stdout",
     "output_type": "stream",
     "text": [
      "{'adhesiolysis': {'precision': 0.8813559322033898, 'recall': 1.0, 'f1-score': 0.936936936936937, 'support': 52}, 'blurry': {'precision': 0.9473684210526315, 'recall': 1.0, 'f1-score': 0.972972972972973, 'support': 18}, 'catheter insertion': {'precision': 0.9271523178807947, 'recall': 0.9540034071550255, 'f1-score': 0.9403862300587741, 'support': 587}, 'mesh placement': {'precision': 0.9596323661921067, 'recall': 0.973491773308958, 'f1-score': 0.9665123876939831, 'support': 5470}, 'mesh positioning': {'precision': 0.684981684981685, 'recall': 0.8779342723004695, 'f1-score': 0.7695473251028806, 'support': 213}, 'out of body': {'precision': 0.972318339100346, 'recall': 0.9756944444444444, 'f1-score': 0.9740034662045061, 'support': 288}, 'peritoneal closure': {'precision': 0.9754470490132493, 'recall': 0.9454872025145936, 'f1-score': 0.9602334914264866, 'support': 11135}, 'peritoneal scoring': {'precision': 0.9491371480472298, 'recall': 0.9600367478180983, 'f1-score': 0.9545558346654487, 'support': 2177}, 'positioning suture': {'precision': 0.7452460850111857, 'recall': 0.8880373208930357, 'f1-score': 0.8103998783639957, 'support': 3001}, 'preperioneal dissection': {'precision': 0.8882279273638072, 'recall': 0.9784445594067943, 'f1-score': 0.9311561499958974, 'support': 5799}, 'primary hernia repair': {'precision': 0.9318181818181818, 'recall': 0.9959514170040485, 'f1-score': 0.9628180039138944, 'support': 247}, 'reduction of hernia': {'precision': 0.9796084828711256, 'recall': 0.9234022104757328, 'f1-score': 0.9506753079701183, 'support': 10405}, 'stationary idle': {'precision': 0.8605150214592274, 'recall': 0.9925742574257426, 'f1-score': 0.92183908045977, 'support': 404}, 'transitionary idle': {'precision': 0.8725202057310801, 'recall': 0.7384950248756219, 'f1-score': 0.7999326372515999, 'support': 3216}, 'accuracy': 0.9302055240398028, 'macro avg': {'precision': 0.8982377973375744, 'recall': 0.943110902687326, 'f1-score': 0.9179978359298048, 'support': 43012}, 'weighted avg': {'precision': 0.9340204941348658, 'recall': 0.9302055240398028, 'f1-score': 0.9305808098827887, 'support': 43012}}\n",
      "                         precision    recall  f1-score   support\n",
      "\n",
      "           adhesiolysis       0.88      1.00      0.94        52\n",
      "                 blurry       0.95      1.00      0.97        18\n",
      "     catheter insertion       0.93      0.95      0.94       587\n",
      "         mesh placement       0.96      0.97      0.97      5470\n",
      "       mesh positioning       0.68      0.88      0.77       213\n",
      "            out of body       0.97      0.98      0.97       288\n",
      "     peritoneal closure       0.98      0.95      0.96     11135\n",
      "     peritoneal scoring       0.95      0.96      0.95      2177\n",
      "     positioning suture       0.75      0.89      0.81      3001\n",
      "preperioneal dissection       0.89      0.98      0.93      5799\n",
      "  primary hernia repair       0.93      1.00      0.96       247\n",
      "    reduction of hernia       0.98      0.92      0.95     10405\n",
      "        stationary idle       0.86      0.99      0.92       404\n",
      "     transitionary idle       0.87      0.74      0.80      3216\n",
      "\n",
      "               accuracy                           0.93     43012\n",
      "              macro avg       0.90      0.94      0.92     43012\n",
      "           weighted avg       0.93      0.93      0.93     43012\n",
      "\n",
      "0.9960168870834695\n",
      "0.9970472448957345\n"
     ]
    },
    {
     "data": {
      "image/png": "[encoded data removed]",
      "text/plain": [
       "<Figure size 432x288 with 2 Axes>"
      ]
     },
     "metadata": {
      "needs_background": "light"
     },
     "output_type": "display_data"
    }
   ],
   "source": [
    "cm = confusion_matrix(y_true, y_predicted, labels=classes)\n",
    "disp = ConfusionMatrixDisplay(confusion_matrix=cm, display_labels=classes)\n",
    "disp.plot(include_values=False, xticks_rotation = 'vertical')\n",
    "plt.show()\n",
    "\n",
    "target_names = classes\n",
    "c_report = classification_report(y_true, y_predicted, labels=classes, target_names=target_names, output_dict=True)\n",
    "print(c_report)\n",
    "basic_report = classification_report(y_true, y_predicted, labels=classes)\n",
    "print(basic_report)\n",
    "sns.heatmap(pd.DataFrame(c_report).iloc[:-1, :].T, annot=True)\n",
    "\n",
    "print(metrics.roc_auc_score(y_test_true, pr, multi_class = 'ovr'))\n",
    "print(metrics.roc_auc_score(y_test_true, pr, multi_class = 'ovo')) "
   ]
  },
  {
   "cell_type": "code",
   "execution_count": 45,
   "id": "72a8d771",
   "metadata": {},
   "outputs": [],
   "source": [
    "train_image_paths = []\n",
    "for i in range(71,100):\n",
    "    filename = '/home/zo2151/assignments/Data1/Test_data/001-00%i'%(i,)\n",
    "    train_image_paths.append(glob.glob(filename + '/*'))\n",
    "train_image_paths1 = [item for sublist in train_image_paths for item in sublist]\n",
    "train_image_paths1.extend(train_image_paths4)"
   ]
  },
  {
   "cell_type": "code",
   "execution_count": null,
   "id": "c83691aa",
   "metadata": {},
   "outputs": [],
   "source": [
    "train_image_paths = []\n",
    "for i in range(100,126):\n",
    "    filename = '/home/zo2151/assignments/Data1/Test_data/001-0%i'%(i,)\n",
    "    train_image_paths.append(glob.glob(filename + '/*'))\n",
    "train_image_paths2 = [item for sublist in train_image_paths for item in sublist]\n",
    "train_image_paths1.extend(train_image_paths4)"
   ]
  },
  {
   "cell_type": "code",
   "execution_count": null,
   "id": "21a5c1c3",
   "metadata": {},
   "outputs": [],
   "source": [
    "train_image_paths = []\n",
    "for i in range(1,5):\n",
    "    filename = '/home/zo2151/assignments/Data1/Test_data/002-000%i'%(i,)\n",
    "    train_image_paths.append(glob.glob(filename + '/*'))\n",
    "train_image_paths3 = [item for sublist in train_image_paths for item in sublist]\n",
    "train_image_paths1.extend(train_image_paths4)"
   ]
  },
  {
   "cell_type": "code",
   "execution_count": 51,
   "id": "f557803b",
   "metadata": {},
   "outputs": [],
   "source": [
    "train_image_paths = []\n",
    "for i in range(1,2):\n",
    "    filename = '/home/zo2151/assignments/Data1/Test_data/003-000%i'%(i,)\n",
    "    train_image_paths.append(glob.glob(filename + '/*'))\n",
    "train_image_paths4 = [item for sublist in train_image_paths for item in sublist]\n",
    "train_image_paths1.extend(train_image_paths4)"
   ]
  },
  {
   "cell_type": "code",
   "execution_count": 52,
   "id": "b4a24a92",
   "metadata": {},
   "outputs": [
    {
     "data": {
      "text/plain": [
       "180191"
      ]
     },
     "execution_count": 52,
     "metadata": {},
     "output_type": "execute_result"
    }
   ],
   "source": [
    "len(train_image_paths1)"
   ]
  },
  {
   "cell_type": "code",
   "execution_count": 53,
   "id": "f51141c9",
   "metadata": {},
   "outputs": [],
   "source": [
    "train_image_paths1 = natsort.natsorted(train_image_paths1)"
   ]
  },
  {
   "cell_type": "code",
   "execution_count": 56,
   "id": "bb842aac",
   "metadata": {},
   "outputs": [],
   "source": [
    "names = []\n",
    "for i in range(len(train_image_paths1)):\n",
    "    a = os.path.basename(train_image_paths1[i])\n",
    "    a1 = a[:-4]\n",
    "    names.append(a1)"
   ]
  },
  {
   "cell_type": "code",
   "execution_count": 58,
   "id": "da4027f1",
   "metadata": {},
   "outputs": [],
   "source": [
    "train_transforms = A.Compose(\n",
    "    [\n",
    "        A.Resize(224,224),\n",
    "        A.Normalize((0.5,0.5,0.5),(0.5,0.5,0.5)),\n",
    "        ToTensorV2(),\n",
    "    ]\n",
    ")"
   ]
  },
  {
   "cell_type": "code",
   "execution_count": 63,
   "id": "65fbfec9",
   "metadata": {},
   "outputs": [],
   "source": [
    "class SurgicalDataset1(Dataset):\n",
    "    def __init__(self, image_paths, transform=False):\n",
    "        super(SurgicalDataset1, self).__init__()\n",
    "        self.image_paths = image_paths\n",
    "        self.transform = transform\n",
    "        \n",
    "    def __len__(self):\n",
    "        return len(self.image_paths)\n",
    "\n",
    "    def __getitem__(self, idx):\n",
    "        image_filepath = self.image_paths[idx]\n",
    "        image = cv2.imread(image_filepath)\n",
    "        \n",
    "        if self.transform is not None:\n",
    "            image = self.transform(image=image)[\"image\"]\n",
    "        \n",
    "        return image"
   ]
  },
  {
   "cell_type": "code",
   "execution_count": 72,
   "id": "6627d515",
   "metadata": {},
   "outputs": [],
   "source": [
    "def get_pred1(model, train_transforms, batch_size, use_cuda=True):\n",
    "    val_dataset = SurgicalDataset1(train_image_paths1, train_transforms)\n",
    "    valid_loader = DataLoader(val_dataset, batch_size, shuffle = False)\n",
    "    model = model.to('cuda' if use_cuda else 'cpu')\n",
    "    pred = []\n",
    "    # again no gradients needed\n",
    "    t = ti.time()\n",
    "    model.eval()\n",
    "    with torch.no_grad():\n",
    "        for data in valid_loader:\n",
    "            images= data.to(device)\n",
    "            outputs = model(images)\n",
    "            _, predictions = torch.max(outputs, 1)\n",
    "            # collect the correct predictions for each class\n",
    "            for prediction in predictions:\n",
    "                pred.append(prediction)\n",
    "                \n",
    "    processtime = ti.time()-t\n",
    "    print('processtime', processtime)\n",
    "    return pred, processtime"
   ]
  },
  {
   "cell_type": "code",
   "execution_count": 73,
   "id": "4de6cd4f",
   "metadata": {},
   "outputs": [
    {
     "name": "stdout",
     "output_type": "stream",
     "text": [
      "processtime 1381.637146949768\n"
     ]
    }
   ],
   "source": [
    "save_path = os.path.join(os.getcwd(), 'models', 'TransferEffiNet')\n",
    "best_effi = TransferEffiNet()\n",
    "best_effi.load_state_dict(torch.load(os.path.join(save_path, 'best.pt')))\n",
    "transforms = get_transform('effinet')\n",
    "batch_size = 32\n",
    "y_test_predicted, time = get_pred1(best_effi, transforms, batch_size)"
   ]
  },
  {
   "cell_type": "code",
   "execution_count": 76,
   "id": "65e343ff",
   "metadata": {},
   "outputs": [],
   "source": [
    "for i in range(len(y_test_predicted)):\n",
    "    y_test_predicted[i] = y_test_predicted[i].cpu().data.numpy()"
   ]
  },
  {
   "cell_type": "code",
   "execution_count": 77,
   "id": "32e0ea5e",
   "metadata": {},
   "outputs": [],
   "source": [
    "d = {'Id': names, 'Predicted': y_test_predicted}"
   ]
  },
  {
   "cell_type": "code",
   "execution_count": 78,
   "id": "7c68699a",
   "metadata": {},
   "outputs": [],
   "source": [
    "df = pd.concat([pd.Series(v, name=k) for k, v in d.items()], axis=1)"
   ]
  },
  {
   "cell_type": "code",
   "execution_count": 80,
   "id": "7e6ebdc1",
   "metadata": {},
   "outputs": [],
   "source": [
    "df.to_csv(\"Predicted.csv\", index = False)"
   ]
  },
  {
   "cell_type": "code",
   "execution_count": 81,
   "id": "a662c17a",
   "metadata": {},
   "outputs": [],
   "source": [
    "some_csv = pd.read_csv(\"kaggle_template.csv\")"
   ]
  },
  {
   "cell_type": "code",
   "execution_count": 82,
   "id": "2a055171",
   "metadata": {},
   "outputs": [],
   "source": [
    "names1 = some_csv[\"Id\"]"
   ]
  },
  {
   "cell_type": "code",
   "execution_count": 92,
   "id": "d9fe8ddc",
   "metadata": {},
   "outputs": [],
   "source": [
    "names1 = some_csv[\"Id\"].values.tolist()"
   ]
  },
  {
   "cell_type": "code",
   "execution_count": 93,
   "id": "41ae8747",
   "metadata": {},
   "outputs": [],
   "source": [
    "names2 = []\n",
    "y_test_predicted1 = []"
   ]
  },
  {
   "cell_type": "code",
   "execution_count": 94,
   "id": "1f234050",
   "metadata": {},
   "outputs": [],
   "source": [
    "for i in range(len(names)):\n",
    "    if names[i] in names1:\n",
    "        names2.append(names[i])\n",
    "        y_test_predicted1.append(y_test_predicted[i])"
   ]
  },
  {
   "cell_type": "code",
   "execution_count": 130,
   "id": "b8578076",
   "metadata": {},
   "outputs": [
    {
     "data": {
      "text/plain": [
       "179928"
      ]
     },
     "execution_count": 130,
     "metadata": {},
     "output_type": "execute_result"
    }
   ],
   "source": [
    "len(y_test_predicted1)"
   ]
  },
  {
   "cell_type": "code",
   "execution_count": 149,
   "id": "55ed8e84",
   "metadata": {},
   "outputs": [],
   "source": [
    "d1 = {'Id': names3, 'Predicted': y_test_predicted2}"
   ]
  },
  {
   "cell_type": "code",
   "execution_count": 150,
   "id": "3f2d256d",
   "metadata": {},
   "outputs": [],
   "source": [
    "df = pd.concat([pd.Series(v, name=k) for k, v in d1.items()], axis=1)"
   ]
  },
  {
   "cell_type": "code",
   "execution_count": 151,
   "id": "006140bb",
   "metadata": {},
   "outputs": [],
   "source": [
    "df.to_csv(\"Predicted.csv\", index = False)"
   ]
  },
  {
   "cell_type": "code",
   "execution_count": 141,
   "id": "5ef368d6",
   "metadata": {},
   "outputs": [],
   "source": [
    "names3=[]"
   ]
  },
  {
   "cell_type": "code",
   "execution_count": 142,
   "id": "310c8aec",
   "metadata": {},
   "outputs": [],
   "source": [
    "# The labels are using 0-based index, which is different from the final prediction label example. Only one set of labels \n",
    "# were submitted due to time constraint.\n",
    "for i in range(len(names2)):\n",
    "    if names2[i][-2] == \"-\":\n",
    "        n = int(names2[i][-1:])\n",
    "        na = names2[i][0:-1]+\"0000%i\"%(n)\n",
    "        names3.append(na)\n",
    "    elif names2[i][-3] == \"-\":\n",
    "        n = int(names2[i][-2:])\n",
    "        na = names2[i][0:-2]+\"000%i\"%(n)\n",
    "        names3.append(na)\n",
    "    elif names2[i][-4] == \"-\":\n",
    "        n = int(names2[i][-3:])\n",
    "        na = names2[i][0:-3]+\"00%i\"%(n)\n",
    "        names3.append(na)\n",
    "    elif names2[i][-5] == \"-\":\n",
    "        n = int(names2[i][-4:])\n",
    "        na = names2[i][0:-4]+\"0%i\"%(n)\n",
    "        names3.append(na)"
   ]
  },
  {
   "cell_type": "code",
   "execution_count": 148,
   "id": "88d20cec",
   "metadata": {},
   "outputs": [],
   "source": [
    "y_test_predicted2 = []\n",
    "for i in range(len(y_test_predicted1)):\n",
    "    if y_test_predicted1[i] == 0:\n",
    "        y_test_predicted2.append(\"adhesiolysis\")\n",
    "    elif y_test_predicted1[i] == 1:\n",
    "        y_test_predicted2.append(\"blurry\")\n",
    "    elif y_test_predicted1[i] == 2:\n",
    "        y_test_predicted2.append(\"catheter insertion\")\n",
    "    elif y_test_predicted1[i] == 3:\n",
    "        y_test_predicted2.append(\"mesh placement\")\n",
    "    elif y_test_predicted1[i] == 4:\n",
    "        y_test_predicted2.append(\"mesh positioning\")\n",
    "    elif y_test_predicted1[i] == 5:\n",
    "        y_test_predicted2.append(\"out of body\")\n",
    "    elif y_test_predicted1[i] == 6:\n",
    "        y_test_predicted2.append(\"peritoneal closure\")\n",
    "    elif y_test_predicted1[i] == 7:\n",
    "        y_test_predicted2.append(\"peritoneal scoring\")\n",
    "    elif y_test_predicted1[i] == 8:\n",
    "        y_test_predicted2.append(\"positioning suture\")\n",
    "    elif y_test_predicted1[i] == 9:\n",
    "        y_test_predicted2.append(\"preperioneal dissection\")\n",
    "    elif y_test_predicted1[i] == 10:\n",
    "        y_test_predicted2.append(\"primary hernia repair\")\n",
    "    elif y_test_predicted1[i] == 11:\n",
    "        y_test_predicted2.append(\"reduction of hernia\")\n",
    "    elif y_test_predicted1[i] == 12:\n",
    "        y_test_predicted2.append(\"stationary idle\")\n",
    "    elif y_test_predicted1[i] == 13:\n",
    "        y_test_predicted2.append(\"transitionary idle\")"
   ]
  },
  {
   "cell_type": "code",
   "execution_count": null,
   "id": "f5ce4cbb",
   "metadata": {},
   "outputs": [],
   "source": []
  }
 ],
 "metadata": {
  "kernelspec": {
   "display_name": "Python 3 (ipykernel)",
   "language": "python",
   "name": "python3"
  },
  "language_info": {
   "codemirror_mode": {
    "name": "ipython",
    "version": 3
   },
   "file_extension": ".py",
   "mimetype": "text/x-python",
   "name": "python",
   "nbconvert_exporter": "python",
   "pygments_lexer": "ipython3",
   "version": "3.9.7"
  }
 },
 "nbformat": 4,
 "nbformat_minor": 5
}
