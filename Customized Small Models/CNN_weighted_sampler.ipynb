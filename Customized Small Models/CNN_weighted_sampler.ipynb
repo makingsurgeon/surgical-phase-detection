{
 "cells": [
  {
   "cell_type": "markdown",
   "id": "c16d6311",
   "metadata": {},
   "source": [
    "## Gathering Labels for Training"
   ]
  },
  {
   "cell_type": "code",
   "execution_count": 1,
   "id": "d5b4db81",
   "metadata": {},
   "outputs": [],
   "source": [
    "import torch\n",
    "import torchvision\n",
    "import torchvision.transforms as transforms\n",
    "import torch.optim as optim\n",
    "import time\n",
    "from itertools import count\n",
    "import natsort"
   ]
  },
  {
   "cell_type": "code",
   "execution_count": 2,
   "id": "53842a80",
   "metadata": {},
   "outputs": [],
   "source": [
    "from torch.utils.data import Dataset, DataLoader, WeightedRandomSampler\n",
    "import albumentations as A\n",
    "from albumentations.pytorch import ToTensorV2\n",
    "import cv2\n",
    "import glob\n",
    "import numpy\n",
    "import random\n",
    "import pandas as pd\n",
    "import tqdm\n",
    "from sklearn import metrics\n",
    "import matplotlib.pyplot as plt"
   ]
  },
  {
   "cell_type": "code",
   "execution_count": 3,
   "id": "789e447d",
   "metadata": {},
   "outputs": [],
   "source": [
    "train_transforms = A.Compose(\n",
    "    [\n",
    "        A.Resize(224,224),\n",
    "        A.Normalize((0.5,0.5,0.5),(0.5,0.5,0.5)),\n",
    "        ToTensorV2(),\n",
    "    ]\n",
    ")"
   ]
  },
  {
   "cell_type": "code",
   "execution_count": 4,
   "id": "c9930af0",
   "metadata": {},
   "outputs": [],
   "source": [
    "train_image_paths = []"
   ]
  },
  {
   "cell_type": "code",
   "execution_count": 5,
   "id": "0bded628",
   "metadata": {},
   "outputs": [],
   "source": [
    "for i in range(1,71):\n",
    "    filename = '/home/zo2151/assignments/Data/Video%i'%(i,)\n",
    "    train_image_paths.append(glob.glob(filename + '/*'))\n",
    "train_image_paths1 = [item for sublist in train_image_paths for item in sublist]\n",
    "train_image_paths1 = natsort.natsorted(train_image_paths1)"
   ]
  },
  {
   "cell_type": "code",
   "execution_count": 6,
   "id": "104d1098",
   "metadata": {},
   "outputs": [],
   "source": [
    "df = pd.read_csv(\"/home/zo2151/Processed_data.csv\")\n",
    "df1 = df.loc[:,\"Phases\"].to_numpy()\n",
    "df2 = df1.tolist()\n",
    "percentile_list = pd.DataFrame(\n",
    "    {'Link': train_image_paths1,\n",
    "     'Label': df2,\n",
    "    })"
   ]
  },
  {
   "cell_type": "code",
   "execution_count": 7,
   "id": "b128e28b",
   "metadata": {},
   "outputs": [],
   "source": [
    "percentile_list1 = percentile_list.sample(frac=1, random_state=1)\n",
    "train_image_paths = percentile_list1.loc[:,\"Link\"].to_numpy().tolist()"
   ]
  },
  {
   "cell_type": "code",
   "execution_count": 8,
   "id": "5152cd9e",
   "metadata": {},
   "outputs": [],
   "source": [
    "labels = percentile_list1.loc[:,\"Label\"].to_numpy().tolist()\n",
    "train_image_paths, valid_image_paths = train_image_paths[:int(0.8*len(train_image_paths))], train_image_paths[int(0.8*len(train_image_paths)):]  \n",
    "train_labels, valid_labels = labels[:int(0.8*len(labels))], labels[int(0.8*len(labels)):] "
   ]
  },
  {
   "cell_type": "markdown",
   "id": "697a93db",
   "metadata": {},
   "source": [
    "## Sampler"
   ]
  },
  {
   "cell_type": "code",
   "execution_count": 9,
   "id": "eff4c615",
   "metadata": {},
   "outputs": [],
   "source": [
    "summary = {i:0 for i in range(14)}\n",
    "num_classes = 14\n",
    "total_samples = 0\n",
    "for i in train_labels:\n",
    "    total_samples += 1\n",
    "    summary[i] += 1\n",
    "\n",
    "class_weights = [total_samples/summary[i] for i in range(num_classes)]\n",
    "weights = [class_weights[train_labels[i]] for i in range(total_samples)]\n",
    "sampler = WeightedRandomSampler(torch.DoubleTensor(weights), len(weights))"
   ]
  },
  {
   "cell_type": "code",
   "execution_count": 10,
   "id": "8445572f",
   "metadata": {},
   "outputs": [],
   "source": [
    "class SurgicalDataset(Dataset):\n",
    "    def __init__(self, image_paths, labels, transform=False):\n",
    "        super(SurgicalDataset, self).__init__()\n",
    "        self.image_paths = image_paths\n",
    "        self.transform = transform\n",
    "        self.labels = labels\n",
    "        \n",
    "    def __len__(self):\n",
    "        return len(self.image_paths)\n",
    "\n",
    "    def __getitem__(self, idx):\n",
    "        image_filepath = self.image_paths[idx]\n",
    "        image = cv2.imread(image_filepath)\n",
    "        \n",
    "        label = self.labels[idx]\n",
    "        if self.transform is not None:\n",
    "            image = self.transform(image=image)[\"image\"]\n",
    "        \n",
    "        return image, label\n"
   ]
  },
  {
   "cell_type": "code",
   "execution_count": 11,
   "id": "e54e56c5",
   "metadata": {},
   "outputs": [],
   "source": [
    "train_dataset = SurgicalDataset(train_image_paths,train_labels, train_transforms)\n",
    "val_dataset = SurgicalDataset(valid_image_paths,valid_labels, train_transforms)\n",
    "train_loader = DataLoader(\n",
    "    train_dataset, batch_size=1024, sampler= sampler\n",
    ")\n",
    "\n",
    "valid_loader = DataLoader(\n",
    "    val_dataset, batch_size=1024, shuffle=True\n",
    ")"
   ]
  },
  {
   "cell_type": "code",
   "execution_count": 12,
   "id": "05247d4f",
   "metadata": {},
   "outputs": [
    {
     "name": "stdout",
     "output_type": "stream",
     "text": [
      "cuda:0\n"
     ]
    }
   ],
   "source": [
    "device = torch.device('cuda:0' if torch.cuda.is_available() else 'cpu')\n",
    "print(device)"
   ]
  },
  {
   "cell_type": "code",
   "execution_count": 13,
   "id": "63f26df6",
   "metadata": {},
   "outputs": [
    {
     "data": {
      "text/plain": [
       "Net(\n",
       "  (conv1): Conv2d(3, 6, kernel_size=(5, 5), stride=(1, 1))\n",
       "  (pool): MaxPool2d(kernel_size=2, stride=2, padding=0, dilation=1, ceil_mode=False)\n",
       "  (conv2): Conv2d(6, 16, kernel_size=(5, 5), stride=(1, 1))\n",
       "  (fc1): Linear(in_features=44944, out_features=120, bias=True)\n",
       "  (fc2): Linear(in_features=120, out_features=84, bias=True)\n",
       "  (fc3): Linear(in_features=84, out_features=14, bias=True)\n",
       ")"
      ]
     },
     "execution_count": 13,
     "metadata": {},
     "output_type": "execute_result"
    }
   ],
   "source": [
    "import torch.nn as nn\n",
    "import torch.nn.functional as F\n",
    "class Net(nn.Module):\n",
    "    def __init__(self):\n",
    "        super().__init__()\n",
    "        self.conv1 = nn.Conv2d(3, 6, 5)\n",
    "        self.pool = nn.MaxPool2d(2, 2)\n",
    "        self.conv2 = nn.Conv2d(6, 16, 5)\n",
    "        self.fc1 = nn.Linear(16 * 53 * 53, 120)\n",
    "        self.fc2 = nn.Linear(120, 84)\n",
    "        self.fc3 = nn.Linear(84, 14)\n",
    "\n",
    "    def forward(self, x):\n",
    "        x = self.pool(F.relu(self.conv1(x)))\n",
    "        x = self.pool(F.relu(self.conv2(x)))\n",
    "        x = torch.flatten(x, 1) # flatten all dimensions except batch\n",
    "        x = F.relu(self.fc1(x))\n",
    "        x = F.relu(self.fc2(x))\n",
    "        x = self.fc3(x)\n",
    "        return x\n",
    "\n",
    "\n",
    "net = Net()\n",
    "net.to(device)"
   ]
  },
  {
   "cell_type": "code",
   "execution_count": 14,
   "id": "fffc18a9",
   "metadata": {},
   "outputs": [],
   "source": [
    "criterion = nn.CrossEntropyLoss()\n",
    "optimizer = optim.Adam(net.parameters(), lr=0.001)"
   ]
  },
  {
   "cell_type": "code",
   "execution_count": 15,
   "id": "5754530f",
   "metadata": {},
   "outputs": [
    {
     "name": "stderr",
     "output_type": "stream",
     "text": [
      "100%|█████████████████████████████████████████████████████████████████████████| 169/169 [18:47<00:00,  6.67s/it]\n"
     ]
    },
    {
     "name": "stdout",
     "output_type": "stream",
     "text": [
      "1127.7954268455505\n"
     ]
    },
    {
     "name": "stderr",
     "output_type": "stream",
     "text": [
      "100%|█████████████████████████████████████████████████████████████████████████| 169/169 [18:47<00:00,  6.67s/it]\n"
     ]
    },
    {
     "name": "stdout",
     "output_type": "stream",
     "text": [
      "1127.2274136543274\n"
     ]
    },
    {
     "name": "stderr",
     "output_type": "stream",
     "text": [
      "100%|█████████████████████████████████████████████████████████████████████████| 169/169 [18:48<00:00,  6.68s/it]\n"
     ]
    },
    {
     "name": "stdout",
     "output_type": "stream",
     "text": [
      "1128.2046687602997\n"
     ]
    },
    {
     "name": "stderr",
     "output_type": "stream",
     "text": [
      "100%|█████████████████████████████████████████████████████████████████████████| 169/169 [18:47<00:00,  6.67s/it]\n"
     ]
    },
    {
     "name": "stdout",
     "output_type": "stream",
     "text": [
      "1127.279236316681\n"
     ]
    },
    {
     "name": "stderr",
     "output_type": "stream",
     "text": [
      "100%|█████████████████████████████████████████████████████████████████████████| 169/169 [18:47<00:00,  6.67s/it]\n"
     ]
    },
    {
     "name": "stdout",
     "output_type": "stream",
     "text": [
      "1127.4367802143097\n",
      "Finished Training\n"
     ]
    }
   ],
   "source": [
    "for epoch in range(5):  # loop over the dataset multiple times\n",
    "    t = time.time()\n",
    "    running_loss = 0.0\n",
    "    loop = tqdm.tqdm(train_loader, total = len(train_loader), leave = True)\n",
    "    for img, label in loop:\n",
    "        # get the inputs; data is a list of [inputs, labels]\n",
    "        inputs, labels = img.to(device), label.to(device)\n",
    "\n",
    "        # zero the parameter gradients\n",
    "        optimizer.zero_grad()\n",
    "\n",
    "        # forward + backward + optimize\n",
    "        outputs = net(inputs)\n",
    "        loss = criterion(outputs, labels)\n",
    "        loss.backward()\n",
    "        optimizer.step()\n",
    "\n",
    "        # print statistics\n",
    "        running_loss += loss.item()\n",
    "        if i % 2000 == 1999:    # print every 2000 mini-batches\n",
    "            print(f'[{epoch + 1}, {i + 1:5d}] loss: {running_loss / 2000:.3f}')\n",
    "            running_loss = 0.0\n",
    "    d = time.time()-t\n",
    "    print(d)\n",
    "    torch.save({\n",
    "            'epoch': 2,\n",
    "            'model_state_dict': net.state_dict(),\n",
    "            'optimizer_state_dict': optimizer.state_dict(),\n",
    "            }, \"/home/zo2151/model2.pt\")\n",
    "print('Finished Training')"
   ]
  },
  {
   "cell_type": "code",
   "execution_count": 16,
   "id": "1af5edd5",
   "metadata": {},
   "outputs": [
    {
     "name": "stdout",
     "output_type": "stream",
     "text": [
      "283.9022831916809\n",
      "{0: 42, 1: 17, 2: 403, 3: 4089, 4: 69, 5: 279, 6: 7361, 7: 1930, 8: 2691, 9: 4630, 10: 237, 11: 6601, 12: 392, 13: 1909}\n",
      "{0: 52, 1: 18, 2: 587, 3: 5470, 4: 213, 5: 288, 6: 11135, 7: 2177, 8: 3001, 9: 5799, 10: 247, 11: 10405, 12: 404, 13: 3216}\n"
     ]
    }
   ],
   "source": [
    "classes = [i for i in range(14)]\n",
    "correct_pred = {classname: 0 for classname in classes}\n",
    "total_pred = {classname: 0 for classname in classes}\n",
    "pr = []\n",
    "pred = []\n",
    "l = []\n",
    "# again no gradients needed\n",
    "t = time.time()\n",
    "with torch.no_grad():\n",
    "    for data in valid_loader:\n",
    "        images, labels = data[0].to(device), data[1].to(device)\n",
    "        l.append(labels)\n",
    "        outputs = net(images)\n",
    "        _, predictions = torch.max(outputs, 1)\n",
    "        m = F.softmax(outputs, dim=1)\n",
    "        # collect the correct predictions for each class\n",
    "        for label, prediction in zip(labels, predictions):\n",
    "            pred.append(prediction)\n",
    "            if label == prediction:\n",
    "                correct_pred[classes[label]] += 1\n",
    "            total_pred[classes[label]] += 1\n",
    "        for p in m:\n",
    "            pr.append(p)\n",
    "print(time.time()-t)\n",
    "print(correct_pred)\n",
    "print(total_pred)\n",
    "# print accuracy for each class\n",
    "#for classname, correct_count in correct_pred.items():\n",
    "    #accuracy = 100 * float(correct_count) / total_pred[classname]\n",
    "    #print(f'Accuracy for class: {classname:5s} is {accuracy:.1f} %')"
   ]
  },
  {
   "cell_type": "code",
   "execution_count": 17,
   "id": "bbc8321a",
   "metadata": {},
   "outputs": [],
   "source": [
    "for i in range(len(l)):\n",
    "    l[i] = l[i].cpu()\n",
    "for i in range(len(l)):\n",
    "    l[i] = l[i].data.numpy()\n",
    "l = [item for sublist in l for item in sublist]\n",
    "for i in range(len(l)):\n",
    "    pred[i] = pred[i].cpu().data.numpy()\n",
    "for i in range(len(l)):\n",
    "    pr[i] = pr[i].cpu().data.numpy()"
   ]
  },
  {
   "cell_type": "markdown",
   "id": "ad816ea9",
   "metadata": {},
   "source": [
    "## Some metrics"
   ]
  },
  {
   "cell_type": "code",
   "execution_count": 18,
   "id": "2a6e8908",
   "metadata": {},
   "outputs": [
    {
     "data": {
      "text/plain": [
       "0.7125918348367898"
      ]
     },
     "execution_count": 18,
     "metadata": {},
     "output_type": "execute_result"
    }
   ],
   "source": [
    "metrics.accuracy_score(l, pred)"
   ]
  },
  {
   "cell_type": "code",
   "execution_count": 19,
   "id": "422e9ef0",
   "metadata": {},
   "outputs": [
    {
     "data": {
      "text/plain": [
       "0.7677966238682671"
      ]
     },
     "execution_count": 19,
     "metadata": {},
     "output_type": "execute_result"
    }
   ],
   "source": [
    "metrics.f1_score(l, pred, average=\"macro\")"
   ]
  },
  {
   "cell_type": "code",
   "execution_count": 20,
   "id": "81bfe2e1",
   "metadata": {},
   "outputs": [
    {
     "data": {
      "text/plain": [
       "array([0.97674419, 0.80952381, 0.94158879, 0.95716292, 0.84146341,\n",
       "       0.85846154, 0.92626148, 0.82726104, 0.29038524, 0.79525936,\n",
       "       0.94047619, 0.9561124 , 0.90114943, 0.39110838])"
      ]
     },
     "execution_count": 20,
     "metadata": {},
     "output_type": "execute_result"
    }
   ],
   "source": [
    "metrics.precision_score(l, pred, average=None)"
   ]
  },
  {
   "cell_type": "code",
   "execution_count": 21,
   "id": "b2196612",
   "metadata": {},
   "outputs": [
    {
     "data": {
      "text/plain": [
       "array([0.80769231, 0.94444444, 0.68654174, 0.74753199, 0.32394366,\n",
       "       0.96875   , 0.6610687 , 0.88654111, 0.8967011 , 0.79841352,\n",
       "       0.95951417, 0.63440654, 0.97029703, 0.59359453])"
      ]
     },
     "execution_count": 21,
     "metadata": {},
     "output_type": "execute_result"
    }
   ],
   "source": [
    "metrics.recall_score(l, pred, average=None)"
   ]
  },
  {
   "cell_type": "code",
   "execution_count": 22,
   "id": "6d1714c2",
   "metadata": {},
   "outputs": [],
   "source": [
    "auc = metrics.roc_auc_score(l, pr, multi_class = \"ovr\")"
   ]
  },
  {
   "cell_type": "code",
   "execution_count": 23,
   "id": "da76a106",
   "metadata": {},
   "outputs": [
    {
     "data": {
      "text/plain": [
       "0.9787734785339363"
      ]
     },
     "execution_count": 23,
     "metadata": {},
     "output_type": "execute_result"
    }
   ],
   "source": [
    "auc"
   ]
  },
  {
   "cell_type": "code",
   "execution_count": 24,
   "id": "edd17e06",
   "metadata": {},
   "outputs": [],
   "source": [
    "auc = metrics.roc_auc_score(l, pr, multi_class = \"ovo\")"
   ]
  },
  {
   "cell_type": "code",
   "execution_count": 25,
   "id": "df46213a",
   "metadata": {},
   "outputs": [
    {
     "data": {
      "text/plain": [
       "0.9831764253488794"
      ]
     },
     "execution_count": 25,
     "metadata": {},
     "output_type": "execute_result"
    }
   ],
   "source": [
    "auc"
   ]
  },
  {
   "cell_type": "code",
   "execution_count": 26,
   "id": "7822d760",
   "metadata": {},
   "outputs": [],
   "source": [
    "mem_params = sum([param.nelement()*param.element_size() for param in net.parameters()])\n",
    "mem_bufs = sum([buf.nelement()*buf.element_size() for buf in net.buffers()])\n",
    "mem = mem_params + mem_bufs"
   ]
  },
  {
   "cell_type": "code",
   "execution_count": 27,
   "id": "d7efd974",
   "metadata": {},
   "outputs": [
    {
     "data": {
      "text/plain": [
       "21630504"
      ]
     },
     "execution_count": 27,
     "metadata": {},
     "output_type": "execute_result"
    }
   ],
   "source": [
    "mem"
   ]
  }
 ],
 "metadata": {
  "kernelspec": {
   "display_name": "Python 3 (ipykernel)",
   "language": "python",
   "name": "python3"
  },
  "language_info": {
   "codemirror_mode": {
    "name": "ipython",
    "version": 3
   },
   "file_extension": ".py",
   "mimetype": "text/x-python",
   "name": "python",
   "nbconvert_exporter": "python",
   "pygments_lexer": "ipython3",
   "version": "3.9.7"
  }
 },
 "nbformat": 4,
 "nbformat_minor": 5
}
