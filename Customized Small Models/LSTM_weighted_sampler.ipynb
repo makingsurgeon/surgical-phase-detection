{
 "cells": [
  {
   "cell_type": "markdown",
   "id": "f79e79a5",
   "metadata": {},
   "source": [
    "## Create Labels for training"
   ]
  },
  {
   "cell_type": "code",
   "execution_count": 1,
   "id": "9a6e46ea",
   "metadata": {},
   "outputs": [],
   "source": [
    "import torch\n",
    "import torchvision\n",
    "import torchvision.transforms as transforms\n",
    "import torch.optim as optim\n",
    "import time\n",
    "from itertools import count\n",
    "import natsort"
   ]
  },
  {
   "cell_type": "code",
   "execution_count": 2,
   "id": "a98a93cc",
   "metadata": {},
   "outputs": [],
   "source": [
    "from torch.utils.data import Dataset, DataLoader, WeightedRandomSampler\n",
    "import albumentations as A\n",
    "from albumentations.pytorch import ToTensorV2\n",
    "import cv2\n",
    "import glob\n",
    "import numpy\n",
    "import random\n",
    "import pandas as pd\n",
    "import tqdm\n",
    "from sklearn import metrics\n",
    "import matplotlib.pyplot as plt"
   ]
  },
  {
   "cell_type": "code",
   "execution_count": 3,
   "id": "ea77abf4",
   "metadata": {},
   "outputs": [],
   "source": [
    "train_transforms = A.Compose(\n",
    "    [\n",
    "        A.Resize(224,224),\n",
    "        A.Normalize((0.5,0.5,0.5),(0.5,0.5,0.5)),\n",
    "        ToTensorV2(),\n",
    "    ]\n",
    ")"
   ]
  },
  {
   "cell_type": "code",
   "execution_count": 4,
   "id": "7875494a",
   "metadata": {},
   "outputs": [],
   "source": [
    "train_image_paths = []\n",
    "for i in range(1,71):\n",
    "    filename = '/home/zo2151/assignments/Data/Video%i'%(i,)\n",
    "    train_image_paths.append(glob.glob(filename + '/*'))\n",
    "train_image_paths1 = [item for sublist in train_image_paths for item in sublist]\n",
    "train_image_paths1 = natsort.natsorted(train_image_paths1)"
   ]
  },
  {
   "cell_type": "code",
   "execution_count": 5,
   "id": "dc9c67b7",
   "metadata": {},
   "outputs": [],
   "source": [
    "df = pd.read_csv(\"/home/zo2151/Processed_data.csv\")\n",
    "df1 = df.loc[:,\"Phases\"].to_numpy()\n",
    "df2 = df1.tolist()\n",
    "percentile_list = pd.DataFrame(\n",
    "    {'Link': train_image_paths1,\n",
    "     'Label': df2,\n",
    "    })"
   ]
  },
  {
   "cell_type": "code",
   "execution_count": 6,
   "id": "2852dd70",
   "metadata": {},
   "outputs": [],
   "source": [
    "percentile_list1 = percentile_list.sample(frac=1, random_state=1)\n",
    "train_image_paths = percentile_list1.loc[:,\"Link\"].to_numpy().tolist()\n",
    "labels = percentile_list1.loc[:,\"Label\"].to_numpy().tolist()\n",
    "train_image_paths, valid_image_paths = train_image_paths[:int(0.8*len(train_image_paths))], train_image_paths[int(0.8*len(train_image_paths)):]  \n",
    "train_labels, valid_labels = labels[:int(0.8*len(labels))], labels[int(0.8*len(labels)):] "
   ]
  },
  {
   "cell_type": "code",
   "execution_count": 7,
   "id": "2f824611",
   "metadata": {},
   "outputs": [],
   "source": [
    "summary = {i:0 for i in range(14)}\n",
    "num_classes = 14\n",
    "total_samples = 0\n",
    "for i in train_labels:\n",
    "    total_samples += 1\n",
    "    summary[i] += 1\n",
    "\n",
    "class_weights = [total_samples/summary[i] for i in range(num_classes)]\n",
    "weights = [class_weights[train_labels[i]] for i in range(total_samples)]\n",
    "sampler = WeightedRandomSampler(torch.DoubleTensor(weights), len(weights))"
   ]
  },
  {
   "cell_type": "code",
   "execution_count": 8,
   "id": "f8f34ed0",
   "metadata": {},
   "outputs": [],
   "source": [
    "class SurgicalDataset(Dataset):\n",
    "    def __init__(self, image_paths, labels, transform=False):\n",
    "        super(SurgicalDataset, self).__init__()\n",
    "        self.image_paths = image_paths\n",
    "        self.transform = transform\n",
    "        self.labels = labels\n",
    "        \n",
    "    def __len__(self):\n",
    "        return len(self.image_paths)\n",
    "\n",
    "    def __getitem__(self, idx):\n",
    "        image_filepath = self.image_paths[idx]\n",
    "        image = cv2.imread(image_filepath)\n",
    "        \n",
    "        label = self.labels[idx]\n",
    "        if self.transform is not None:\n",
    "            image = self.transform(image=image)[\"image\"]\n",
    "        \n",
    "        return image, label\n"
   ]
  },
  {
   "cell_type": "code",
   "execution_count": 9,
   "id": "929feca1",
   "metadata": {},
   "outputs": [],
   "source": [
    "train_dataset = SurgicalDataset(train_image_paths,train_labels, train_transforms)\n",
    "val_dataset = SurgicalDataset(valid_image_paths,valid_labels, train_transforms)\n",
    "train_loader = DataLoader(\n",
    "    train_dataset, batch_size=1024, sampler= sampler\n",
    ")\n",
    "\n",
    "valid_loader = DataLoader(\n",
    "    val_dataset, batch_size=1024, shuffle=True\n",
    ")"
   ]
  },
  {
   "cell_type": "code",
   "execution_count": 10,
   "id": "0eb9591e",
   "metadata": {},
   "outputs": [
    {
     "name": "stdout",
     "output_type": "stream",
     "text": [
      "cuda:0\n"
     ]
    }
   ],
   "source": [
    "device = torch.device('cuda:0' if torch.cuda.is_available() else 'cpu')\n",
    "print(device)"
   ]
  },
  {
   "cell_type": "markdown",
   "id": "d485ce55",
   "metadata": {},
   "source": [
    "## Model with one FC layer substituted as LSTM"
   ]
  },
  {
   "cell_type": "code",
   "execution_count": 11,
   "id": "990c3d2b",
   "metadata": {},
   "outputs": [
    {
     "data": {
      "text/plain": [
       "Net(\n",
       "  (conv1): Conv2d(3, 6, kernel_size=(5, 5), stride=(1, 1))\n",
       "  (pool): MaxPool2d(kernel_size=2, stride=2, padding=0, dilation=1, ceil_mode=False)\n",
       "  (conv2): Conv2d(6, 16, kernel_size=(5, 5), stride=(1, 1))\n",
       "  (lstm1): LSTM(44944, 120)\n",
       "  (fc2): Linear(in_features=120, out_features=84, bias=True)\n",
       "  (fc3): Linear(in_features=84, out_features=14, bias=True)\n",
       ")"
      ]
     },
     "execution_count": 11,
     "metadata": {},
     "output_type": "execute_result"
    }
   ],
   "source": [
    "import torch.nn as nn\n",
    "import torch.nn.functional as F\n",
    "class Net(nn.Module):\n",
    "    def __init__(self):\n",
    "        super().__init__()\n",
    "        self.conv1 = nn.Conv2d(3, 6, 5)\n",
    "        self.pool = nn.MaxPool2d(2, 2)\n",
    "        self.conv2 = nn.Conv2d(6, 16, 5)\n",
    "        self.lstm1 = nn.LSTM(16 * 53 * 53, 120)\n",
    "        self.fc2 = nn.Linear(120, 84)\n",
    "        self.fc3 = nn.Linear(84, 14)\n",
    "\n",
    "    def forward(self, x):\n",
    "        x = self.pool(F.relu(self.conv1(x)))\n",
    "        x = self.pool(F.relu(self.conv2(x)))\n",
    "        x = torch.flatten(x, 1) # flatten all dimensions except batch\n",
    "        x, _ = self.lstm1(x)\n",
    "        x = F.relu(self.fc2(x))\n",
    "        x = self.fc3(x)\n",
    "        return x\n",
    "\n",
    "\n",
    "net = Net()\n",
    "net.to(device)"
   ]
  },
  {
   "cell_type": "code",
   "execution_count": 12,
   "id": "e1e32527",
   "metadata": {},
   "outputs": [],
   "source": [
    "criterion = nn.CrossEntropyLoss()\n",
    "optimizer = optim.Adam(net.parameters(), lr=0.001)"
   ]
  },
  {
   "cell_type": "code",
   "execution_count": 13,
   "id": "08615bfc",
   "metadata": {},
   "outputs": [],
   "source": [
    "checkpoint = torch.load(\"/home/zo2151/model3.pt\")\n",
    "net.load_state_dict(checkpoint['model_state_dict'])\n",
    "optimizer.load_state_dict(checkpoint['optimizer_state_dict'])"
   ]
  },
  {
   "cell_type": "code",
   "execution_count": 14,
   "id": "52fc4cde",
   "metadata": {},
   "outputs": [
    {
     "name": "stderr",
     "output_type": "stream",
     "text": [
      "100%|█████████████████████████████████████████████████████████████████████████| 169/169 [18:53<00:00,  6.71s/it]\n"
     ]
    },
    {
     "name": "stdout",
     "output_type": "stream",
     "text": [
      "1133.9682312011719\n"
     ]
    },
    {
     "name": "stderr",
     "output_type": "stream",
     "text": [
      "100%|█████████████████████████████████████████████████████████████████████████| 169/169 [18:52<00:00,  6.70s/it]\n"
     ]
    },
    {
     "name": "stdout",
     "output_type": "stream",
     "text": [
      "1132.5939083099365\n",
      "Finished Training\n"
     ]
    }
   ],
   "source": [
    "for epoch in range(2):  # trained 5 epochs, after 3 epochs, connection lost\n",
    "    t = time.time()\n",
    "    running_loss = 0.0\n",
    "    loop = tqdm.tqdm(train_loader, total = len(train_loader), leave = True)\n",
    "    for img, label in loop:\n",
    "        # get the inputs; data is a list of [inputs, labels]\n",
    "        inputs, labels = img.to(device), label.to(device)\n",
    "\n",
    "        # zero the parameter gradients\n",
    "        optimizer.zero_grad()\n",
    "\n",
    "        # forward + backward + optimize\n",
    "        outputs = net(inputs)\n",
    "        loss = criterion(outputs, labels)\n",
    "        loss.backward()\n",
    "        optimizer.step()\n",
    "\n",
    "        # print statistics\n",
    "        running_loss += loss.item()\n",
    "        if i % 2000 == 1999:    # print every 2000 mini-batches\n",
    "            print(f'[{epoch + 1}, {i + 1:5d}] loss: {running_loss / 2000:.3f}')\n",
    "            running_loss = 0.0\n",
    "    d = time.time()-t\n",
    "    print(d)\n",
    "    torch.save({\n",
    "            'epoch': 2,\n",
    "            'model_state_dict': net.state_dict(),\n",
    "            'optimizer_state_dict': optimizer.state_dict(),\n",
    "            }, \"/home/zo2151/model3.pt\")\n",
    "print('Finished Training')"
   ]
  },
  {
   "cell_type": "code",
   "execution_count": 15,
   "id": "c4651944",
   "metadata": {},
   "outputs": [
    {
     "name": "stdout",
     "output_type": "stream",
     "text": [
      "282.01640033721924\n",
      "{0: 45, 1: 15, 2: 475, 3: 4919, 4: 151, 5: 279, 6: 10749, 7: 2079, 8: 1320, 9: 4583, 10: 229, 11: 8200, 12: 394, 13: 2368}\n",
      "{0: 52, 1: 18, 2: 587, 3: 5470, 4: 213, 5: 288, 6: 11135, 7: 2177, 8: 3001, 9: 5799, 10: 247, 11: 10405, 12: 404, 13: 3216}\n"
     ]
    }
   ],
   "source": [
    "classes = [i for i in range(14)]\n",
    "correct_pred = {classname: 0 for classname in classes}\n",
    "total_pred = {classname: 0 for classname in classes}\n",
    "pr = []\n",
    "pred = []\n",
    "l = []\n",
    "# again no gradients needed\n",
    "t = time.time()\n",
    "with torch.no_grad():\n",
    "    for data in valid_loader:\n",
    "        images, labels = data[0].to(device), data[1].to(device)\n",
    "        l.append(labels)\n",
    "        outputs = net(images)\n",
    "        _, predictions = torch.max(outputs, 1)\n",
    "        m = F.softmax(outputs, dim=1)\n",
    "        # collect the correct predictions for each class\n",
    "        for label, prediction in zip(labels, predictions):\n",
    "            pred.append(prediction)\n",
    "            if label == prediction:\n",
    "                correct_pred[classes[label]] += 1\n",
    "            total_pred[classes[label]] += 1\n",
    "        for p in m:\n",
    "            pr.append(p)\n",
    "print(time.time()-t)\n",
    "print(correct_pred)\n",
    "print(total_pred)\n",
    "# print accuracy for each class\n",
    "#for classname, correct_count in correct_pred.items():\n",
    "    #accuracy = 100 * float(correct_count) / total_pred[classname]\n",
    "    #print(f'Accuracy for class: {classname:5s} is {accuracy:.1f} %')"
   ]
  },
  {
   "cell_type": "code",
   "execution_count": 16,
   "id": "06f03d1c",
   "metadata": {},
   "outputs": [],
   "source": [
    "for i in range(len(l)):\n",
    "    l[i] = l[i].cpu()\n",
    "for i in range(len(l)):\n",
    "    l[i] = l[i].data.numpy()\n",
    "l = [item for sublist in l for item in sublist]\n",
    "for i in range(len(l)):\n",
    "    pred[i] = pred[i].cpu().data.numpy()\n",
    "for i in range(len(l)):\n",
    "    pr[i] = pr[i].cpu().data.numpy()"
   ]
  },
  {
   "cell_type": "markdown",
   "id": "8003c526",
   "metadata": {},
   "source": [
    "## Some metrics"
   ]
  },
  {
   "cell_type": "code",
   "execution_count": 17,
   "id": "12670dfb",
   "metadata": {},
   "outputs": [
    {
     "data": {
      "text/plain": [
       "0.8324653585046033"
      ]
     },
     "execution_count": 17,
     "metadata": {},
     "output_type": "execute_result"
    }
   ],
   "source": [
    "metrics.accuracy_score(l, pred)"
   ]
  },
  {
   "cell_type": "code",
   "execution_count": 18,
   "id": "1d9090c3",
   "metadata": {},
   "outputs": [
    {
     "data": {
      "text/plain": [
       "0.8173330759681472"
      ]
     },
     "execution_count": 18,
     "metadata": {},
     "output_type": "execute_result"
    }
   ],
   "source": [
    "metrics.f1_score(l, pred, average=\"macro\")"
   ]
  },
  {
   "cell_type": "code",
   "execution_count": 19,
   "id": "a3c5de89",
   "metadata": {},
   "outputs": [
    {
     "data": {
      "text/plain": [
       "array([0.83333333, 0.88235294, 0.9082218 , 0.93162879, 0.46461538,\n",
       "       0.8913738 , 0.83832475, 0.722879  , 0.87301587, 0.85775781,\n",
       "       0.958159  , 0.95050423, 0.90993072, 0.50946644])"
      ]
     },
     "execution_count": 19,
     "metadata": {},
     "output_type": "execute_result"
    }
   ],
   "source": [
    "metrics.precision_score(l, pred, average=None)"
   ]
  },
  {
   "cell_type": "code",
   "execution_count": 20,
   "id": "adfbcf07",
   "metadata": {},
   "outputs": [
    {
     "data": {
      "text/plain": [
       "array([0.86538462, 0.83333333, 0.80919932, 0.89926874, 0.70892019,\n",
       "       0.96875   , 0.96533453, 0.95498392, 0.43985338, 0.79030867,\n",
       "       0.92712551, 0.78808265, 0.97524752, 0.73631841])"
      ]
     },
     "execution_count": 20,
     "metadata": {},
     "output_type": "execute_result"
    }
   ],
   "source": [
    "metrics.recall_score(l, pred, average=None)"
   ]
  },
  {
   "cell_type": "code",
   "execution_count": 21,
   "id": "09523c7b",
   "metadata": {},
   "outputs": [],
   "source": [
    "auc = metrics.roc_auc_score(l, pr, multi_class = \"ovr\")"
   ]
  },
  {
   "cell_type": "code",
   "execution_count": 22,
   "id": "bd6999e1",
   "metadata": {},
   "outputs": [
    {
     "data": {
      "text/plain": [
       "0.9855453604105724"
      ]
     },
     "execution_count": 22,
     "metadata": {},
     "output_type": "execute_result"
    }
   ],
   "source": [
    "auc"
   ]
  },
  {
   "cell_type": "code",
   "execution_count": 23,
   "id": "3bd4dbaa",
   "metadata": {},
   "outputs": [],
   "source": [
    "auc = metrics.roc_auc_score(l, pr, multi_class = \"ovo\")"
   ]
  },
  {
   "cell_type": "code",
   "execution_count": 24,
   "id": "7dfa269f",
   "metadata": {},
   "outputs": [
    {
     "data": {
      "text/plain": [
       "0.9878549535360933"
      ]
     },
     "execution_count": 24,
     "metadata": {},
     "output_type": "execute_result"
    }
   ],
   "source": [
    "auc"
   ]
  },
  {
   "cell_type": "code",
   "execution_count": 25,
   "id": "c124d492",
   "metadata": {},
   "outputs": [],
   "source": [
    "mem_params = sum([param.nelement()*param.element_size() for param in net.parameters()])\n",
    "mem_bufs = sum([buf.nelement()*buf.element_size() for buf in net.buffers()])\n",
    "mem = mem_params + mem_bufs"
   ]
  },
  {
   "cell_type": "code",
   "execution_count": 26,
   "id": "7167615a",
   "metadata": {},
   "outputs": [
    {
     "data": {
      "text/plain": [
       "86583624"
      ]
     },
     "execution_count": 26,
     "metadata": {},
     "output_type": "execute_result"
    }
   ],
   "source": [
    "mem"
   ]
  },
  {
   "cell_type": "code",
   "execution_count": null,
   "id": "65cdbc3e",
   "metadata": {},
   "outputs": [],
   "source": []
  }
 ],
 "metadata": {
  "kernelspec": {
   "display_name": "Python 3 (ipykernel)",
   "language": "python",
   "name": "python3"
  },
  "language_info": {
   "codemirror_mode": {
    "name": "ipython",
    "version": 3
   },
   "file_extension": ".py",
   "mimetype": "text/x-python",
   "name": "python",
   "nbconvert_exporter": "python",
   "pygments_lexer": "ipython3",
   "version": "3.9.7"
  }
 },
 "nbformat": 4,
 "nbformat_minor": 5
}
